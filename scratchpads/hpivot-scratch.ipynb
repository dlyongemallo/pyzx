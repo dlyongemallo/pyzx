{
 "cells": [
  {
   "cell_type": "code",
   "execution_count": null,
   "metadata": {},
   "outputs": [],
   "source": [
    "import sys, os; sys.path.append('..')\n",
    "import pyzx as zx\n",
    "import random\n",
    "from fractions import Fraction\n",
    "%config InlineBackend.figure_format = 'svg'"
   ]
  },
  {
   "cell_type": "code",
   "execution_count": null,
   "metadata": {},
   "outputs": [],
   "source": [
    "c = zx.qasm(\"\"\"\n",
    "qreg q[3];\n",
    "\n",
    "ccz q[0],q[1],q[2];\n",
    "h q[2];\n",
    "t q[2];\n",
    "ccz q[0],q[1],q[2];\n",
    "h q[2];\n",
    "t q[1];\n",
    "ccz q[0],q[1],q[2];\n",
    "s q[2];\n",
    "ccx q[0],q[1],q[2];\n",
    "\"\"\")\n",
    "zx.draw(c, labels=True)"
   ]
  },
  {
   "cell_type": "code",
   "execution_count": null,
   "metadata": {},
   "outputs": [],
   "source": [
    "h = c.to_graph(zh=True)\n",
    "zx.simplify.spider_simp(h)\n",
    "zx.hsimplify.to_hbox(h)\n",
    "m = zx.hrules.match_hpivot(h)\n",
    "print(m)\n",
    "display(zx.draw(h,labels=True))\n",
    "zx.hrules.hpivot(h,m)\n",
    "display(zx.draw(h,labels=True))"
   ]
  },
  {
   "cell_type": "code",
   "execution_count": null,
   "metadata": {},
   "outputs": [],
   "source": [
    "zx.hsimplify.hpivot_simp(h)\n",
    "zx.d3.draw(h, labels=True)"
   ]
  },
  {
   "cell_type": "code",
   "execution_count": null,
   "metadata": {},
   "outputs": [],
   "source": [
    "random.seed(1338)\n",
    "\n",
    "qs = 5\n",
    "d = 10\n",
    "p_t = 0.2\n",
    "p_h = 0.3\n",
    "\n",
    "for j in range(50):\n",
    "    c = zx.Circuit(qs)\n",
    "    for i in range(d):\n",
    "        p = random.random()\n",
    "        if p < p_h:\n",
    "            c.add_gate(zx.circuit.HAD(random.randint(0,qs-1)))\n",
    "        elif p < p_t + p_h:\n",
    "            c.add_gate(zx.circuit.T(random.randint(0,qs-1)))\n",
    "        else:\n",
    "            q = sorted(random.sample(range(qs), 3))\n",
    "            c.add_gate(zx.circuit.CCZ(q[0],q[1],q[2]))\n",
    "    g = c.to_graph(zh=True)\n",
    "    zx.hsimplify.hpivot_simp(g, quiet=True)\n",
    "    if zx.compare_tensors(g, c.to_graph(zh=True), preserve_scalar=False):\n",
    "        print(\"OK\", end=';')\n",
    "    else:\n",
    "        print(\"CIRCUIT DIDN'T WORK!!!!\")\n",
    "        print(c.to_qasm())"
   ]
  },
  {
   "cell_type": "code",
   "execution_count": null,
   "metadata": {},
   "outputs": [],
   "source": [
    "def truncate_fraction(f, N=3628800): # N=10!\n",
    "    if f.denominator < N: return f\n",
    "    return Fraction(round((f.numerator/f.denominator) * N), N)"
   ]
  },
  {
   "cell_type": "code",
   "execution_count": null,
   "metadata": {},
   "outputs": [],
   "source": [
    "d = os.path.join('..', 'circuits', 'Fast')\n",
    "print('Circuit'.ljust(30) + '  qubits' + '   gates' + '    Z' + '       H' + '  nf')\n",
    "for f in os.listdir(d):\n",
    "    f1 = os.path.join(d,f)\n",
    "    if f.find('QFTAdd8') != -1: continue # takes too long\n",
    "    if not os.path.isfile(f1) or f.find('before') == -1: continue\n",
    "    print(f.ljust(30), end='')\n",
    "    \n",
    "    c = zx.Circuit.load(f1)\n",
    "    for g in c1.gates:\n",
    "        if isinstance(g, zx.gates.ZPhase):\n",
    "            g.phase = truncate_fraction(g.phase)\n",
    "        \n",
    "    print(str(c.qubits).rjust(8), end='')\n",
    "    print(str(len(c.gates)).rjust(8), end='')\n",
    "    g = c.to_graph(zh=True)\n",
    "    zx.hsimplify.hpivot_simp(g, quiet=True)\n",
    "    g.normalise()\n",
    "    z = len([v for v in g.vertices() if g.type(v) == 1])\n",
    "    h = len([v for v in g.vertices() if g.type(v) == 3])\n",
    "    print(str(z).rjust(5), end='')\n",
    "    print(str(h).rjust(8), end='  ')\n",
    "    \n",
    "    print(g.qubit_count() * 2 == z)"
   ]
  },
  {
   "cell_type": "code",
   "execution_count": 13,
   "metadata": {},
   "outputs": [
    {
     "data": {
      "text/plain": [
       "Circuit(19 qubits, 51 gates)"
      ]
     },
     "execution_count": 13,
     "metadata": {},
     "output_type": "execute_result"
    }
   ],
   "source": [
    "c0 = zx.Circuit.load('../circuits/Fast/tof_10_before')\n",
    "c0"
   ]
  },
  {
   "cell_type": "code",
   "execution_count": 15,
   "metadata": {},
   "outputs": [
    {
     "name": "stdout",
     "output_type": "stream",
     "text": [
      "spider_simp: 26. 8. 7.  3 iterations\n",
      "id_simp: 9.  1 iterations\n",
      "hpivot: 1.  1 iterations\n",
      "par_hbox: 1.  1 iterations\n",
      "id_simp: 1.  1 iterations\n",
      "hpivot: 1.  1 iterations\n",
      "par_hbox: 1.  1 iterations\n",
      "id_simp: 1.  1 iterations\n",
      "hpivot: 1.  1 iterations\n",
      "par_hbox: 1.  1 iterations\n",
      "id_simp: 1.  1 iterations\n",
      "hpivot: 1.  1 iterations\n",
      "par_hbox: 1.  1 iterations\n",
      "id_simp: 1.  1 iterations\n",
      "hpivot: 1.  1 iterations\n",
      "par_hbox: 1.  1 iterations\n",
      "id_simp: 1.  1 iterations\n",
      "hpivot: 1.  1 iterations\n",
      "par_hbox: 1.  1 iterations\n",
      "id_simp: 1.  1 iterations\n",
      "hpivot: 1.  1 iterations\n",
      "par_hbox: 1.  1 iterations\n",
      "id_simp: 1.  1 iterations\n",
      "hpivot: 1.  1 iterations\n",
      "par_hbox: 1.  1 iterations\n",
      "id_simp: 1.  1 iterations\n"
     ]
    },
    {
     "data": {
      "text/html": [
       "\n",
       "        <div style=\"overflow:auto\" id=\"graph-output-5\"></div>\n",
       "        <script type=\"text/javascript\">\n",
       "        require.config({ baseUrl: \"../js\",\n",
       "                         paths: {d3: \"d3.v4.min\"} });\n",
       "        require(['pyzx'], function(pyzx) {\n",
       "            pyzx.showGraph('#graph-output-5',\n",
       "            JSON.parse('{\"nodes\": [{\"name\": \"0\", \"x\": 50, \"y\": 100, \"t\": 0, \"phase\": \"\"}, {\"name\": \"1\", \"x\": 50, \"y\": 150, \"t\": 0, \"phase\": \"\"}, {\"name\": \"2\", \"x\": 50, \"y\": 200, \"t\": 0, \"phase\": \"\"}, {\"name\": \"3\", \"x\": 50, \"y\": 250, \"t\": 0, \"phase\": \"\"}, {\"name\": \"4\", \"x\": 50, \"y\": 300, \"t\": 0, \"phase\": \"\"}, {\"name\": \"5\", \"x\": 50, \"y\": 350, \"t\": 0, \"phase\": \"\"}, {\"name\": \"6\", \"x\": 50, \"y\": 400, \"t\": 0, \"phase\": \"\"}, {\"name\": \"7\", \"x\": 50, \"y\": 450, \"t\": 0, \"phase\": \"\"}, {\"name\": \"8\", \"x\": 50, \"y\": 500, \"t\": 0, \"phase\": \"\"}, {\"name\": \"9\", \"x\": 50, \"y\": 550, \"t\": 0, \"phase\": \"\"}, {\"name\": \"10\", \"x\": 50, \"y\": 600, \"t\": 0, \"phase\": \"\"}, {\"name\": \"11\", \"x\": 50, \"y\": 650, \"t\": 0, \"phase\": \"\"}, {\"name\": \"12\", \"x\": 50, \"y\": 700, \"t\": 0, \"phase\": \"\"}, {\"name\": \"13\", \"x\": 50, \"y\": 750, \"t\": 0, \"phase\": \"\"}, {\"name\": \"14\", \"x\": 50, \"y\": 800, \"t\": 0, \"phase\": \"\"}, {\"name\": \"15\", \"x\": 50, \"y\": 850, \"t\": 0, \"phase\": \"\"}, {\"name\": \"16\", \"x\": 50, \"y\": 900, \"t\": 0, \"phase\": \"\"}, {\"name\": \"17\", \"x\": 50, \"y\": 950, \"t\": 0, \"phase\": \"\"}, {\"name\": \"18\", \"x\": 50, \"y\": 1000, \"t\": 0, \"phase\": \"\"}, {\"name\": \"19\", \"x\": 100, \"y\": 600, \"t\": 1, \"phase\": \"\"}, {\"name\": \"21\", \"x\": 100, \"y\": 100, \"t\": 1, \"phase\": \"\"}, {\"name\": \"22\", \"x\": 100, \"y\": 150, \"t\": 1, \"phase\": \"\"}, {\"name\": \"25\", \"x\": 100, \"y\": 650, \"t\": 1, \"phase\": \"\"}, {\"name\": \"27\", \"x\": 100, \"y\": 200, \"t\": 1, \"phase\": \"\"}, {\"name\": \"31\", \"x\": 100, \"y\": 700, \"t\": 1, \"phase\": \"\"}, {\"name\": \"33\", \"x\": 100, \"y\": 250, \"t\": 1, \"phase\": \"\"}, {\"name\": \"37\", \"x\": 100, \"y\": 750, \"t\": 1, \"phase\": \"\"}, {\"name\": \"39\", \"x\": 100, \"y\": 300, \"t\": 1, \"phase\": \"\"}, {\"name\": \"43\", \"x\": 100, \"y\": 800, \"t\": 1, \"phase\": \"\"}, {\"name\": \"45\", \"x\": 100, \"y\": 350, \"t\": 1, \"phase\": \"\"}, {\"name\": \"49\", \"x\": 100, \"y\": 850, \"t\": 1, \"phase\": \"\"}, {\"name\": \"51\", \"x\": 100, \"y\": 400, \"t\": 1, \"phase\": \"\"}, {\"name\": \"55\", \"x\": 100, \"y\": 900, \"t\": 1, \"phase\": \"\"}, {\"name\": \"57\", \"x\": 100, \"y\": 450, \"t\": 1, \"phase\": \"\"}, {\"name\": \"61\", \"x\": 100, \"y\": 950, \"t\": 1, \"phase\": \"\"}, {\"name\": \"63\", \"x\": 100, \"y\": 500, \"t\": 1, \"phase\": \"\"}, {\"name\": \"67\", \"x\": 100, \"y\": 1000, \"t\": 1, \"phase\": \"\"}, {\"name\": \"69\", \"x\": 100, \"y\": 550, \"t\": 1, \"phase\": \"\"}, {\"name\": \"121\", \"x\": 550, \"y\": 100, \"t\": 0, \"phase\": \"\"}, {\"name\": \"122\", \"x\": 550, \"y\": 150, \"t\": 0, \"phase\": \"\"}, {\"name\": \"123\", \"x\": 550, \"y\": 200, \"t\": 0, \"phase\": \"\"}, {\"name\": \"124\", \"x\": 550, \"y\": 250, \"t\": 0, \"phase\": \"\"}, {\"name\": \"125\", \"x\": 550, \"y\": 300, \"t\": 0, \"phase\": \"\"}, {\"name\": \"126\", \"x\": 550, \"y\": 350, \"t\": 0, \"phase\": \"\"}, {\"name\": \"127\", \"x\": 550, \"y\": 400, \"t\": 0, \"phase\": \"\"}, {\"name\": \"128\", \"x\": 550, \"y\": 450, \"t\": 0, \"phase\": \"\"}, {\"name\": \"129\", \"x\": 550, \"y\": 500, \"t\": 0, \"phase\": \"\"}, {\"name\": \"130\", \"x\": 550, \"y\": 550, \"t\": 0, \"phase\": \"\"}, {\"name\": \"131\", \"x\": 550, \"y\": 600, \"t\": 0, \"phase\": \"\"}, {\"name\": \"132\", \"x\": 550, \"y\": 650, \"t\": 0, \"phase\": \"\"}, {\"name\": \"133\", \"x\": 550, \"y\": 700, \"t\": 0, \"phase\": \"\"}, {\"name\": \"134\", \"x\": 550, \"y\": 750, \"t\": 0, \"phase\": \"\"}, {\"name\": \"135\", \"x\": 550, \"y\": 800, \"t\": 0, \"phase\": \"\"}, {\"name\": \"136\", \"x\": 550, \"y\": 850, \"t\": 0, \"phase\": \"\"}, {\"name\": \"137\", \"x\": 550, \"y\": 900, \"t\": 0, \"phase\": \"\"}, {\"name\": \"138\", \"x\": 550, \"y\": 950, \"t\": 0, \"phase\": \"\"}, {\"name\": \"139\", \"x\": 550, \"y\": 1000, \"t\": 0, \"phase\": \"\"}, {\"name\": \"159\", \"x\": 150, \"y\": 813.3333333333333, \"t\": 3, \"phase\": \"\"}, {\"name\": \"177\", \"x\": 250, \"y\": 717.5, \"t\": 3, \"phase\": \"\"}, {\"name\": \"191\", \"x\": 350, \"y\": 650.0, \"t\": 3, \"phase\": \"\"}, {\"name\": \"207\", \"x\": 450, \"y\": 596.6666666666666, \"t\": 3, \"phase\": \"\"}, {\"name\": \"217\", \"x\": 400, \"y\": 551.4285714285714, \"t\": 3, \"phase\": \"\"}, {\"name\": \"227\", \"x\": 350, \"y\": 511.25, \"t\": 3, \"phase\": \"\"}, {\"name\": \"237\", \"x\": 300, \"y\": 474.44444444444446, \"t\": 3, \"phase\": \"\"}, {\"name\": \"240\", \"x\": 200, \"y\": 366.3636363636364, \"t\": 3, \"phase\": \"\"}, {\"name\": \"241\", \"x\": 250, \"y\": 440.00000000000006, \"t\": 3, \"phase\": \"\"}, {\"name\": \"244\", \"x\": 500, \"y\": 100, \"t\": 1, \"phase\": \"\"}, {\"name\": \"245\", \"x\": 500, \"y\": 150, \"t\": 1, \"phase\": \"\"}, {\"name\": \"246\", \"x\": 500, \"y\": 200, \"t\": 1, \"phase\": \"\"}, {\"name\": \"247\", \"x\": 500, \"y\": 250, \"t\": 1, \"phase\": \"\"}, {\"name\": \"248\", \"x\": 500, \"y\": 300, \"t\": 1, \"phase\": \"\"}, {\"name\": \"249\", \"x\": 500, \"y\": 350, \"t\": 1, \"phase\": \"\"}, {\"name\": \"250\", \"x\": 500, \"y\": 400, \"t\": 1, \"phase\": \"\"}, {\"name\": \"251\", \"x\": 500, \"y\": 450, \"t\": 1, \"phase\": \"\"}, {\"name\": \"252\", \"x\": 500, \"y\": 500, \"t\": 1, \"phase\": \"\"}, {\"name\": \"253\", \"x\": 500, \"y\": 550, \"t\": 1, \"phase\": \"\"}, {\"name\": \"254\", \"x\": 500, \"y\": 600, \"t\": 1, \"phase\": \"\"}, {\"name\": \"255\", \"x\": 500, \"y\": 650, \"t\": 1, \"phase\": \"\"}, {\"name\": \"256\", \"x\": 500, \"y\": 700, \"t\": 1, \"phase\": \"\"}, {\"name\": \"257\", \"x\": 500, \"y\": 750, \"t\": 1, \"phase\": \"\"}, {\"name\": \"258\", \"x\": 500, \"y\": 800, \"t\": 1, \"phase\": \"\"}, {\"name\": \"259\", \"x\": 500, \"y\": 850, \"t\": 1, \"phase\": \"\"}, {\"name\": \"260\", \"x\": 500, \"y\": 900, \"t\": 1, \"phase\": \"\"}, {\"name\": \"261\", \"x\": 500, \"y\": 950, \"t\": 1, \"phase\": \"\"}, {\"name\": \"262\", \"x\": 500, \"y\": 1000, \"t\": 1, \"phase\": \"\"}], \"links\": [{\"source\": \"0\", \"target\": \"21\", \"t\": 1}, {\"source\": \"1\", \"target\": \"22\", \"t\": 1}, {\"source\": \"2\", \"target\": \"27\", \"t\": 1}, {\"source\": \"3\", \"target\": \"33\", \"t\": 1}, {\"source\": \"4\", \"target\": \"39\", \"t\": 1}, {\"source\": \"5\", \"target\": \"45\", \"t\": 1}, {\"source\": \"6\", \"target\": \"51\", \"t\": 1}, {\"source\": \"7\", \"target\": \"57\", \"t\": 1}, {\"source\": \"8\", \"target\": \"63\", \"t\": 1}, {\"source\": \"9\", \"target\": \"69\", \"t\": 1}, {\"source\": \"10\", \"target\": \"19\", \"t\": 1}, {\"source\": \"11\", \"target\": \"25\", \"t\": 1}, {\"source\": \"12\", \"target\": \"31\", \"t\": 1}, {\"source\": \"13\", \"target\": \"37\", \"t\": 1}, {\"source\": \"14\", \"target\": \"43\", \"t\": 1}, {\"source\": \"15\", \"target\": \"49\", \"t\": 1}, {\"source\": \"16\", \"target\": \"55\", \"t\": 1}, {\"source\": \"17\", \"target\": \"61\", \"t\": 1}, {\"source\": \"18\", \"target\": \"67\", \"t\": 2}, {\"source\": \"19\", \"target\": \"241\", \"t\": 1}, {\"source\": \"19\", \"target\": \"254\", \"t\": 2}, {\"source\": \"21\", \"target\": \"240\", \"t\": 1}, {\"source\": \"21\", \"target\": \"244\", \"t\": 2}, {\"source\": \"22\", \"target\": \"240\", \"t\": 1}, {\"source\": \"22\", \"target\": \"245\", \"t\": 2}, {\"source\": \"25\", \"target\": \"237\", \"t\": 1}, {\"source\": \"25\", \"target\": \"255\", \"t\": 2}, {\"source\": \"27\", \"target\": \"240\", \"t\": 1}, {\"source\": \"27\", \"target\": \"241\", \"t\": 1}, {\"source\": \"27\", \"target\": \"246\", \"t\": 2}, {\"source\": \"31\", \"target\": \"227\", \"t\": 1}, {\"source\": \"31\", \"target\": \"256\", \"t\": 2}, {\"source\": \"33\", \"target\": \"237\", \"t\": 1}, {\"source\": \"33\", \"target\": \"240\", \"t\": 1}, {\"source\": \"33\", \"target\": \"241\", \"t\": 1}, {\"source\": \"33\", \"target\": \"247\", \"t\": 2}, {\"source\": \"37\", \"target\": \"217\", \"t\": 1}, {\"source\": \"37\", \"target\": \"257\", \"t\": 2}, {\"source\": \"39\", \"target\": \"227\", \"t\": 1}, {\"source\": \"39\", \"target\": \"237\", \"t\": 1}, {\"source\": \"39\", \"target\": \"240\", \"t\": 1}, {\"source\": \"39\", \"target\": \"241\", \"t\": 1}, {\"source\": \"39\", \"target\": \"248\", \"t\": 2}, {\"source\": \"43\", \"target\": \"207\", \"t\": 1}, {\"source\": \"43\", \"target\": \"258\", \"t\": 2}, {\"source\": \"45\", \"target\": \"217\", \"t\": 1}, {\"source\": \"45\", \"target\": \"227\", \"t\": 1}, {\"source\": \"45\", \"target\": \"237\", \"t\": 1}, {\"source\": \"45\", \"target\": \"240\", \"t\": 1}, {\"source\": \"45\", \"target\": \"241\", \"t\": 1}, {\"source\": \"45\", \"target\": \"249\", \"t\": 2}, {\"source\": \"49\", \"target\": \"191\", \"t\": 1}, {\"source\": \"49\", \"target\": \"259\", \"t\": 2}, {\"source\": \"51\", \"target\": \"207\", \"t\": 1}, {\"source\": \"51\", \"target\": \"217\", \"t\": 1}, {\"source\": \"51\", \"target\": \"227\", \"t\": 1}, {\"source\": \"51\", \"target\": \"237\", \"t\": 1}, {\"source\": \"51\", \"target\": \"240\", \"t\": 1}, {\"source\": \"51\", \"target\": \"241\", \"t\": 1}, {\"source\": \"51\", \"target\": \"250\", \"t\": 2}, {\"source\": \"55\", \"target\": \"177\", \"t\": 1}, {\"source\": \"55\", \"target\": \"260\", \"t\": 2}, {\"source\": \"57\", \"target\": \"191\", \"t\": 1}, {\"source\": \"57\", \"target\": \"207\", \"t\": 1}, {\"source\": \"57\", \"target\": \"217\", \"t\": 1}, {\"source\": \"57\", \"target\": \"227\", \"t\": 1}, {\"source\": \"57\", \"target\": \"237\", \"t\": 1}, {\"source\": \"57\", \"target\": \"240\", \"t\": 1}, {\"source\": \"57\", \"target\": \"241\", \"t\": 1}, {\"source\": \"57\", \"target\": \"251\", \"t\": 2}, {\"source\": \"61\", \"target\": \"159\", \"t\": 1}, {\"source\": \"61\", \"target\": \"261\", \"t\": 2}, {\"source\": \"63\", \"target\": \"177\", \"t\": 1}, {\"source\": \"63\", \"target\": \"191\", \"t\": 1}, {\"source\": \"63\", \"target\": \"207\", \"t\": 1}, {\"source\": \"63\", \"target\": \"217\", \"t\": 1}, {\"source\": \"63\", \"target\": \"227\", \"t\": 1}, {\"source\": \"63\", \"target\": \"237\", \"t\": 1}, {\"source\": \"63\", \"target\": \"240\", \"t\": 1}, {\"source\": \"63\", \"target\": \"241\", \"t\": 1}, {\"source\": \"63\", \"target\": \"252\", \"t\": 2}, {\"source\": \"67\", \"target\": \"159\", \"t\": 1}, {\"source\": \"67\", \"target\": \"177\", \"t\": 1}, {\"source\": \"67\", \"target\": \"191\", \"t\": 1}, {\"source\": \"67\", \"target\": \"207\", \"t\": 1}, {\"source\": \"67\", \"target\": \"217\", \"t\": 1}, {\"source\": \"67\", \"target\": \"227\", \"t\": 1}, {\"source\": \"67\", \"target\": \"237\", \"t\": 1}, {\"source\": \"67\", \"target\": \"240\", \"t\": 1}, {\"source\": \"67\", \"target\": \"241\", \"t\": 1}, {\"source\": \"67\", \"target\": \"262\", \"t\": 2}, {\"source\": \"69\", \"target\": \"159\", \"t\": 1}, {\"source\": \"69\", \"target\": \"177\", \"t\": 1}, {\"source\": \"69\", \"target\": \"191\", \"t\": 1}, {\"source\": \"69\", \"target\": \"207\", \"t\": 1}, {\"source\": \"69\", \"target\": \"217\", \"t\": 1}, {\"source\": \"69\", \"target\": \"227\", \"t\": 1}, {\"source\": \"69\", \"target\": \"237\", \"t\": 1}, {\"source\": \"69\", \"target\": \"240\", \"t\": 1}, {\"source\": \"69\", \"target\": \"241\", \"t\": 1}, {\"source\": \"69\", \"target\": \"253\", \"t\": 2}, {\"source\": \"121\", \"target\": \"244\", \"t\": 2}, {\"source\": \"122\", \"target\": \"245\", \"t\": 2}, {\"source\": \"123\", \"target\": \"246\", \"t\": 2}, {\"source\": \"124\", \"target\": \"247\", \"t\": 2}, {\"source\": \"125\", \"target\": \"248\", \"t\": 2}, {\"source\": \"126\", \"target\": \"249\", \"t\": 2}, {\"source\": \"127\", \"target\": \"250\", \"t\": 2}, {\"source\": \"128\", \"target\": \"251\", \"t\": 2}, {\"source\": \"129\", \"target\": \"252\", \"t\": 2}, {\"source\": \"130\", \"target\": \"253\", \"t\": 2}, {\"source\": \"131\", \"target\": \"254\", \"t\": 2}, {\"source\": \"132\", \"target\": \"255\", \"t\": 2}, {\"source\": \"133\", \"target\": \"256\", \"t\": 2}, {\"source\": \"134\", \"target\": \"257\", \"t\": 2}, {\"source\": \"135\", \"target\": \"258\", \"t\": 2}, {\"source\": \"136\", \"target\": \"259\", \"t\": 2}, {\"source\": \"137\", \"target\": \"260\", \"t\": 2}, {\"source\": \"138\", \"target\": \"261\", \"t\": 2}, {\"source\": \"139\", \"target\": \"262\", \"t\": 1}]}'), 600, 1100, 50, 10.0, false, false);\n",
       "        });\n",
       "        </script>\n",
       "        "
      ],
      "text/plain": [
       "<IPython.core.display.HTML object>"
      ]
     },
     "metadata": {},
     "output_type": "display_data"
    }
   ],
   "source": [
    "g = c0.to_graph(zh=True)\n",
    "zx.hsimplify.hpivot_simp(g)\n",
    "g.normalise()\n",
    "zx.d3.draw(g, auto_hbox=False)"
   ]
  },
  {
   "cell_type": "code",
   "execution_count": null,
   "metadata": {},
   "outputs": [],
   "source": [
    "c1 = zx.Circuit.load('../circuits/Fast/QFTAdd8_before')\n",
    "for g in c1.gates:\n",
    "    if isinstance(g, zx.gates.ZPhase):\n",
    "        g.phase = truncate_fraction(g.phase)\n",
    "c1"
   ]
  },
  {
   "cell_type": "code",
   "execution_count": null,
   "metadata": {
    "scrolled": true
   },
   "outputs": [],
   "source": [
    "g = c1.to_graph(zh=True)\n",
    "zx.hsimplify.hpivot_simp(g, quiet=False)\n",
    "g.normalise()\n",
    "print(\"Normal form: \", end='')\n",
    "print(g.qubit_count() * 2 == len([v for v in g.vertices() if g.type(v) == 1]))\n",
    "zx.d3.draw(g)"
   ]
  },
  {
   "cell_type": "code",
   "execution_count": null,
   "metadata": {},
   "outputs": [],
   "source": []
  }
 ],
 "metadata": {
  "kernelspec": {
   "display_name": "Python 3",
   "language": "python",
   "name": "python3"
  },
  "language_info": {
   "codemirror_mode": {
    "name": "ipython",
    "version": 3
   },
   "file_extension": ".py",
   "mimetype": "text/x-python",
   "name": "python",
   "nbconvert_exporter": "python",
   "pygments_lexer": "ipython3",
   "version": "3.7.3"
  }
 },
 "nbformat": 4,
 "nbformat_minor": 2
}
