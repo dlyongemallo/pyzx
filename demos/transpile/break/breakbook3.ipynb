{
 "cells": [
  {
   "cell_type": "code",
   "execution_count": 1,
   "metadata": {},
   "outputs": [],
   "source": [
    "import pyzx\n",
    "from pyzx.circuit.qasmparser import QASMParser"
   ]
  },
  {
   "cell_type": "code",
   "execution_count": 2,
   "metadata": {},
   "outputs": [
    {
     "name": "stdout",
     "output_type": "stream",
     "text": [
      "\n",
      "OPENQASM 2.0;\n",
      "include \"qelib1.inc\";\n",
      "qreg qr[2];\n",
      "creg cr[2];\n",
      "h qr[0];\n",
      "h qr[1];\n",
      "sdg qr[1];\n",
      "h qr[1];\n",
      "cx qr[0],qr[1];\n",
      "cx qr[1],qr[0];\n",
      "h qr[1];\n",
      "s qr[1];\n",
      "\n"
     ]
    }
   ],
   "source": [
    "qasm = \"\"\"\n",
    "OPENQASM 2.0;\n",
    "include \"qelib1.inc\";\n",
    "qreg qr[2];\n",
    "creg cr[2];\n",
    "h qr[0];\n",
    "h qr[1];\n",
    "sdg qr[1];\n",
    "h qr[1];\n",
    "cx qr[0],qr[1];\n",
    "cx qr[1],qr[0];\n",
    "h qr[1];\n",
    "s qr[1];\n",
    "\"\"\"\n",
    "print(qasm)"
   ]
  },
  {
   "cell_type": "code",
   "execution_count": 3,
   "metadata": {},
   "outputs": [
    {
     "name": "stdout",
     "output_type": "stream",
     "text": [
      "{'qubits': 2, 'gates': [HAD(0), HAD(1), S*(1), HAD(1), CNOT(0,1), CNOT(1,0), HAD(1), S(1)], 'name': ''}\n"
     ]
    }
   ],
   "source": [
    "p = QASMParser()\n",
    "circ = p.parse(qasm)\n",
    "print(circ.__dict__)"
   ]
  },
  {
   "cell_type": "code",
   "execution_count": 4,
   "metadata": {
    "scrolled": true
   },
   "outputs": [
    {
     "data": {
      "image/png": "[encoded data removed]",
      "text/plain": [
       "<Figure size 576x144 with 1 Axes>"
      ]
     },
     "execution_count": 4,
     "metadata": {},
     "output_type": "execute_result"
    }
   ],
   "source": [
    "g = circ.to_graph()\n",
    "pyzx.draw(g)"
   ]
  },
  {
   "cell_type": "code",
   "execution_count": 5,
   "metadata": {},
   "outputs": [
    {
     "data": {
      "image/png": "[encoded data removed]",
      "text/plain": [
       "<Figure size 576x144 with 1 Axes>"
      ]
     },
     "execution_count": 5,
     "metadata": {},
     "output_type": "execute_result"
    }
   ],
   "source": [
    "pyzx.full_reduce(g)\n",
    "pyzx.draw(g)"
   ]
  },
  {
   "cell_type": "code",
   "execution_count": 6,
   "metadata": {},
   "outputs": [
    {
     "name": "stdout",
     "output_type": "stream",
     "text": [
      "{'qubits': 2, 'gates': [ZPhase(0,phase=1/2), ZPhase(1,phase=1/2), CNOT(0,1), HAD(1), ZPhase(1,phase=1/2), CNOT(0,1), CNOT(1,0), CNOT(0,1)], 'name': ''}\n"
     ]
    }
   ],
   "source": [
    "new_circ = pyzx.extract.streaming_extract(g)\n",
    "new_circ = pyzx.optimize.basic_optimization(new_circ.to_basic_gates())\n",
    "print(new_circ.__dict__)"
   ]
  },
  {
   "cell_type": "code",
   "execution_count": 7,
   "metadata": {
    "scrolled": false
   },
   "outputs": [
    {
     "ename": "AssertionError",
     "evalue": "",
     "output_type": "error",
     "traceback": [
      "\u001b[0;31m---------------------------------------------------------------------------\u001b[0m",
      "\u001b[0;31mAssertionError\u001b[0m                            Traceback (most recent call last)",
      "\u001b[0;32m<ipython-input-7-d2cc2016b74f>\u001b[0m in \u001b[0;36m<module>\u001b[0;34m\u001b[0m\n\u001b[0;32m----> 1\u001b[0;31m \u001b[0;32massert\u001b[0m\u001b[0;34m(\u001b[0m\u001b[0mpyzx\u001b[0m\u001b[0;34m.\u001b[0m\u001b[0mcompare_tensors\u001b[0m\u001b[0;34m(\u001b[0m\u001b[0mcirc\u001b[0m\u001b[0;34m,\u001b[0m \u001b[0mnew_circ\u001b[0m\u001b[0;34m)\u001b[0m\u001b[0;34m)\u001b[0m\u001b[0;34m\u001b[0m\u001b[0;34m\u001b[0m\u001b[0m\n\u001b[0m",
      "\u001b[0;31mAssertionError\u001b[0m: "
     ]
    }
   ],
   "source": [
    "assert(pyzx.compare_tensors(circ, new_circ))"
   ]
  }
 ],
 "metadata": {
  "kernelspec": {
   "display_name": "Python 3",
   "language": "python",
   "name": "python3"
  },
  "language_info": {
   "codemirror_mode": {
    "name": "ipython",
    "version": 3
   },
   "file_extension": ".py",
   "mimetype": "text/x-python",
   "name": "python",
   "nbconvert_exporter": "python",
   "pygments_lexer": "ipython3",
   "version": "3.7.3"
  }
 },
 "nbformat": 4,
 "nbformat_minor": 2
}
