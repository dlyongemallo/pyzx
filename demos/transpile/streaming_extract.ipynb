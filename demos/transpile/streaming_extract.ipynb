{
 "cells": [
  {
   "cell_type": "code",
   "execution_count": 8,
   "metadata": {},
   "outputs": [],
   "source": [
    "from qiskit import QuantumCircuit, QuantumRegister, ClassicalRegister\n",
    "import pyzx\n",
    "from pyzx.circuit.qasmparser import QASMParser"
   ]
  },
  {
   "cell_type": "code",
   "execution_count": 33,
   "metadata": {},
   "outputs": [
    {
     "name": "stdout",
     "output_type": "stream",
     "text": [
      "               \n",
      "qr3_0: |0>─────\n",
      "               \n",
      "qr3_1: |0>─────\n",
      "          ┌───┐\n",
      "qr3_2: |0>┤ H ├\n",
      "          └───┘\n",
      "qr3_3: |0>─────\n",
      "               \n",
      "qr3_4: |0>──■──\n",
      "          ┌─┴─┐\n",
      "qr3_5: |0>┤ X ├\n",
      "          └───┘\n",
      "qr1_0: |0>─────\n",
      "               \n",
      "qr1_1: |0>─────\n",
      "          ┌───┐\n",
      "qr0_0: |0>┤ X ├\n",
      "          └───┘\n",
      "qr0_1: |0>─────\n",
      "               \n",
      "qr0_2: |0>─────\n",
      "               \n",
      "qr2_0: |0>─────\n",
      "               \n",
      " cr0_0: 0 ═════\n",
      "               \n",
      " cr0_1: 0 ═════\n",
      "               \n",
      " cr1_0: 0 ═════\n",
      "               \n",
      " cr1_1: 0 ═════\n",
      "               \n",
      " cr1_2: 0 ═════\n",
      "               \n"
     ]
    }
   ],
   "source": [
    "qr0 = QuantumRegister(3, 'qr0')\n",
    "qr1 = QuantumRegister(2, 'qr1')\n",
    "qr2 = QuantumRegister(1, 'qr2')\n",
    "qr3 = QuantumRegister(6, 'qr3')\n",
    "cr0 = ClassicalRegister(2, 'cr0')\n",
    "cr1 = ClassicalRegister(3, 'cr1')\n",
    "qc = QuantumCircuit(qr3, qr1, qr0, qr2, cr0, cr1)\n",
    "qc.x(8)\n",
    "qc.h(2)\n",
    "qc.cx(4,5)\n",
    "print(qc)"
   ]
  },
  {
   "cell_type": "code",
   "execution_count": 34,
   "metadata": {
    "scrolled": false
   },
   "outputs": [
    {
     "name": "stdout",
     "output_type": "stream",
     "text": [
      "OPENQASM 2.0;\n",
      "include \"qelib1.inc\";\n",
      "qreg qr3[6];\n",
      "qreg qr1[2];\n",
      "qreg qr0[3];\n",
      "qreg qr2[1];\n",
      "creg cr0[2];\n",
      "creg cr1[3];\n",
      "x qr0[0];\n",
      "h qr3[2];\n",
      "cx qr3[4],qr3[5];\n",
      "\n"
     ]
    }
   ],
   "source": [
    "qasm = qc.qasm()\n",
    "print(qasm)"
   ]
  },
  {
   "cell_type": "code",
   "execution_count": 35,
   "metadata": {
    "scrolled": true
   },
   "outputs": [
    {
     "data": {
      "image/png": "[encoded data removed]",
      "text/plain": [
       "<Figure size 576x144 with 1 Axes>"
      ]
     },
     "execution_count": 35,
     "metadata": {},
     "output_type": "execute_result"
    }
   ],
   "source": [
    "p = QASMParser()\n",
    "circ = p.parse(qasm)\n",
    "pyzx.draw(circ)"
   ]
  },
  {
   "cell_type": "code",
   "execution_count": 36,
   "metadata": {},
   "outputs": [
    {
     "data": {
      "image/png": "[encoded data removed]",
      "text/plain": [
       "<Figure size 576x144 with 1 Axes>"
      ]
     },
     "execution_count": 36,
     "metadata": {},
     "output_type": "execute_result"
    }
   ],
   "source": [
    "g = circ.to_graph()\n",
    "pyzx.full_reduce(g)\n",
    "pyzx.draw(g)"
   ]
  },
  {
   "cell_type": "code",
   "execution_count": 37,
   "metadata": {},
   "outputs": [
    {
     "name": "stdout",
     "output_type": "stream",
     "text": [
      "First, run the whole notebook with the below nested while-for loop commented.\n",
      "Then, uncomment it and rerun the whole notebook to see the difference.\n",
      "OPENQASM 2.0;\n",
      "include \"qelib1.inc\";\n",
      "qreg q[12];\n",
      "h q[2];\n",
      "cx q[4], q[5];\n",
      "x q[8];\n",
      "\n"
     ]
    }
   ],
   "source": [
    "print(\"First, run the whole notebook with the below nested while-for loop commented.\")\n",
    "print(\"Then, uncomment it and rerun the whole notebook to see the difference.\")\n",
    "new_circ = pyzx.extract.streaming_extract(g)\n",
    "\n",
    "\"\"\"\n",
    "prev = new_circ\n",
    "next = pyzx.extract.streaming_extract(g)\n",
    "while prev.gates != next.gates:\n",
    "    for j in range(len(next.gates))[::-1]:\n",
    "        new_circ.add_gate_to_front(next.gates[j])\n",
    "    prev = next\n",
    "    next = pyzx.extract.streaming_extract(g)\n",
    "\"\"\"\n",
    "\n",
    "new_circ = pyzx.optimize.basic_optimization(new_circ.to_basic_gates())\n",
    "print(new_circ.to_qasm())"
   ]
  }
 ],
 "metadata": {
  "kernelspec": {
   "display_name": "Python 3",
   "language": "python",
   "name": "python3"
  },
  "language_info": {
   "codemirror_mode": {
    "name": "ipython",
    "version": 3
   },
   "file_extension": ".py",
   "mimetype": "text/x-python",
   "name": "python",
   "nbconvert_exporter": "python",
   "pygments_lexer": "ipython3",
   "version": "3.7.3"
  }
 },
 "nbformat": 4,
 "nbformat_minor": 2
}
