{
 "cells": [
  {
   "cell_type": "code",
   "execution_count": 1,
   "metadata": {},
   "outputs": [],
   "source": [
    "from qiskit import QuantumCircuit, QuantumRegister, ClassicalRegister, QiskitError\n",
    "#from qiskit import execute, BasicAer\n",
    "import qiskit.ignis.verification.randomized_benchmarking as rb\n",
    "#import qiskit.test.benchmarks.randomized_benchmarking as br\n",
    "import pyzx\n",
    "from pyzx.circuit.qasmparser import QASMParser\n",
    "from pyzx.circuit.qiskitqasmparser import QiskitQASMParser"
   ]
  },
  {
   "cell_type": "code",
   "execution_count": 2,
   "metadata": {},
   "outputs": [],
   "source": [
    "#qc = rb.randomized_benchmarking_seq()\n",
    "qc = rb.randomized_benchmarking_seq(nseeds=1, length_vector=None,\n",
    "                                rb_pattern=[[0,1]],\n",
    "                                length_multiplier=1, seed_offset=0,\n",
    "                                align_cliffs=False,\n",
    "                                interleaved_gates=None,\n",
    "                                is_purity=False)\n",
    "qc = qc[0][0][0]"
   ]
  },
  {
   "cell_type": "code",
   "execution_count": 3,
   "metadata": {},
   "outputs": [],
   "source": [
    "# setting up the backend\n",
    "# print(BasicAer.backends())\n",
    "\n",
    "# running the job\n",
    "# job_sim = execute(qc, BasicAer.get_backend('qasm_simulator'))\n",
    "# sim_result = job_sim.result()"
   ]
  },
  {
   "cell_type": "code",
   "execution_count": 4,
   "metadata": {
    "scrolled": true
   },
   "outputs": [],
   "source": [
    "# print(\"\\nPrint all gates:\")\n",
    "# [print(dat) for dat in qc.data]"
   ]
  },
  {
   "cell_type": "code",
   "execution_count": 5,
   "metadata": {
    "scrolled": false
   },
   "outputs": [
    {
     "name": "stdout",
     "output_type": "stream",
     "text": [
      "\n",
      "Print QASM:\n",
      "OPENQASM 2.0;\n",
      "include \"qelib1.inc\";\n",
      "qreg qr[2];\n",
      "creg cr[2];\n",
      "u2(0,pi) qr[0];\n",
      "u2(0,pi) qr[0];\n",
      "u1(pi/2) qr[0];\n",
      "u2(0,pi) qr[1];\n",
      "u2(0,pi) qr[1];\n",
      "u1(pi/2) qr[1];\n",
      "cx qr[0],qr[1];\n",
      "u1(-pi/2) qr[0];\n",
      "u2(0,pi) qr[0];\n",
      "u2(0,pi) qr[1];\n",
      "u1(pi/2) qr[1];\n",
      "u3(pi,pi/2,pi/2) qr[1];\n",
      "barrier qr[0],qr[1];\n",
      "u2(0,pi) qr[0];\n",
      "u1(pi/2) qr[0];\n",
      "u3(pi,pi/2,pi/2) qr[1];\n",
      "u1(-pi/2) qr[1];\n",
      "u2(0,pi) qr[1];\n",
      "cx qr[0],qr[1];\n",
      "u1(-pi/2) qr[0];\n",
      "u2(0,pi) qr[0];\n",
      "u2(0,pi) qr[0];\n",
      "u1(-pi/2) qr[1];\n",
      "u2(0,pi) qr[1];\n",
      "u2(0,pi) qr[1];\n",
      "measure qr[0] -> cr[0];\n",
      "measure qr[1] -> cr[1];\n",
      "\n"
     ]
    }
   ],
   "source": [
    "qasm = qc.decompose().qasm()\n",
    "### if you want to remove all barriers\n",
    "## qasm = '\\n'.join(['' if line.startswith(\"barrier\") else line for line in qasm.splitlines()])\n",
    "\n",
    "qc = qc.from_qasm_str(qasm)\n",
    "\n",
    "print(\"\\nPrint QASM:\")\n",
    "print(qasm)"
   ]
  },
  {
   "cell_type": "code",
   "execution_count": 6,
   "metadata": {},
   "outputs": [
    {
     "name": "stdout",
     "output_type": "stream",
     "text": [
      "         ┌──────────┐┌──────────┐┌────────────┐     ┌─────────────┐»\n",
      "qr_0: |0>┤ U2(0,pi) ├┤ U2(0,pi) ├┤ U1(0.5*pi) ├──■──┤ U1(-0.5*pi) ├»\n",
      "         ├──────────┤├──────────┤├────────────┤┌─┴─┐└─┬──────────┬┘»\n",
      "qr_1: |0>┤ U2(0,pi) ├┤ U2(0,pi) ├┤ U1(0.5*pi) ├┤ X ├──┤ U2(0,pi) ├─»\n",
      "         └──────────┘└──────────┘└────────────┘└───┘  └──────────┘ »\n",
      " cr_0: 0 ══════════════════════════════════════════════════════════»\n",
      "                                                                   »\n",
      " cr_1: 0 ══════════════════════════════════════════════════════════»\n",
      "                                                                   »\n",
      "«       ┌──────────┐                          ░       ┌──────────┐      »\n",
      "«qr_0: ─┤ U2(0,pi) ├──────────────────────────░───────┤ U2(0,pi) ├──────»\n",
      "«      ┌┴──────────┴┐┌──────────────────────┐ ░ ┌─────┴──────────┴─────┐»\n",
      "«qr_1: ┤ U1(0.5*pi) ├┤ U3(pi,0.5*pi,0.5*pi) ├─░─┤ U3(pi,0.5*pi,0.5*pi) ├»\n",
      "«      └────────────┘└──────────────────────┘ ░ └──────────────────────┘»\n",
      "«cr_0: ═════════════════════════════════════════════════════════════════»\n",
      "«                                                                       »\n",
      "«cr_1: ═════════════════════════════════════════════════════════════════»\n",
      "«                                                                       »\n",
      "«       ┌────────────┐                 ┌─────────────┐┌──────────┐┌──────────┐»\n",
      "«qr_0: ─┤ U1(0.5*pi) ├──────────────■──┤ U1(-0.5*pi) ├┤ U2(0,pi) ├┤ U2(0,pi) ├»\n",
      "«      ┌┴────────────┤┌──────────┐┌─┴─┐├─────────────┤├──────────┤├──────────┤»\n",
      "«qr_1: ┤ U1(-0.5*pi) ├┤ U2(0,pi) ├┤ X ├┤ U1(-0.5*pi) ├┤ U2(0,pi) ├┤ U2(0,pi) ├»\n",
      "«      └─────────────┘└──────────┘└───┘└─────────────┘└──────────┘└──────────┘»\n",
      "«cr_0: ═══════════════════════════════════════════════════════════════════════»\n",
      "«                                                                             »\n",
      "«cr_1: ═══════════════════════════════════════════════════════════════════════»\n",
      "«                                                                             »\n",
      "«      ┌─┐   \n",
      "«qr_0: ┤M├───\n",
      "«      └╥┘┌─┐\n",
      "«qr_1: ─╫─┤M├\n",
      "«       ║ └╥┘\n",
      "«cr_0: ═╩══╬═\n",
      "«          ║ \n",
      "«cr_1: ════╩═\n",
      "«            \n"
     ]
    }
   ],
   "source": [
    "# Draw the circuit\n",
    "print(qc)"
   ]
  },
  {
   "cell_type": "code",
   "execution_count": 7,
   "metadata": {},
   "outputs": [
    {
     "name": "stdout",
     "output_type": "stream",
     "text": [
      "['qreg qr[2];', 'creg cr[2];', Circuit(2 qubits, 26 gates), 'barrier qr[0],qr[1];', Circuit(2 qubits, 26 gates), 'measure qr[0] -> cr[0];', 'measure qr[1] -> cr[1];']\n",
      "[2, 4]\n",
      "{'qr': (0, 2)}\n",
      "{'qubits': 2, 'gates': [ZPhase(0,phase=1/2), XPhase(0,phase=1/2), ZPhase(0,phase=1/2), ZPhase(0,phase=1/2), XPhase(0,phase=1/2), ZPhase(0,phase=1/2), ZPhase(0,phase=1/2), ZPhase(1,phase=1/2), XPhase(1,phase=1/2), ZPhase(1,phase=1/2), ZPhase(1,phase=1/2), XPhase(1,phase=1/2), ZPhase(1,phase=1/2), ZPhase(1,phase=1/2), CNOT(0,1), ZPhase(0,phase=-1/2), ZPhase(0,phase=1/2), XPhase(0,phase=1/2), ZPhase(0,phase=1/2), ZPhase(1,phase=1/2), XPhase(1,phase=1/2), ZPhase(1,phase=1/2), ZPhase(1,phase=1/2), ZPhase(1,phase=1), XPhase(1,phase=1), ZPhase(1,phase=0)], 'name': ''}\n",
      "{'qubits': 2, 'gates': [ZPhase(0,phase=1/2), XPhase(0,phase=1/2), ZPhase(0,phase=1/2), ZPhase(0,phase=1/2), ZPhase(1,phase=1), XPhase(1,phase=1), ZPhase(1,phase=0), ZPhase(1,phase=-1/2), ZPhase(1,phase=1/2), XPhase(1,phase=1/2), ZPhase(1,phase=1/2), CNOT(0,1), ZPhase(0,phase=-1/2), ZPhase(0,phase=1/2), XPhase(0,phase=1/2), ZPhase(0,phase=1/2), ZPhase(0,phase=1/2), XPhase(0,phase=1/2), ZPhase(0,phase=1/2), ZPhase(1,phase=-1/2), ZPhase(1,phase=1/2), XPhase(1,phase=1/2), ZPhase(1,phase=1/2), ZPhase(1,phase=1/2), XPhase(1,phase=1/2), ZPhase(1,phase=1/2)], 'name': ''}\n"
     ]
    },
    {
     "data": {
      "text/plain": [
       "[None, None]"
      ]
     },
     "execution_count": 7,
     "metadata": {},
     "output_type": "execute_result"
    }
   ],
   "source": [
    "p = QiskitQASMParser()\n",
    "circ_list, whichpyzx = p.qiskitparse(qasm)\n",
    "print(circ_list)\n",
    "print(whichpyzx)\n",
    "print(p.registers)\n",
    "\n",
    "[print(circ_list[w].__dict__) for w in whichpyzx]"
   ]
  },
  {
   "cell_type": "code",
   "execution_count": 8,
   "metadata": {
    "scrolled": false
   },
   "outputs": [
    {
     "data": {
      "image/png": "[encoded data removed]",
      "text/plain": [
       "<Figure size 432x288 with 2 Axes>"
      ]
     },
     "execution_count": 8,
     "metadata": {},
     "output_type": "execute_result"
    }
   ],
   "source": [
    "#qasm = qc.decompose().qasm()\n",
    "pyzx.draw_many(circ_list, whichpyzx)"
   ]
  },
  {
   "cell_type": "code",
   "execution_count": 9,
   "metadata": {},
   "outputs": [
    {
     "data": {
      "image/png": "[encoded data removed]",
      "text/plain": [
       "<Figure size 432x288 with 2 Axes>"
      ]
     },
     "execution_count": 9,
     "metadata": {},
     "output_type": "execute_result"
    }
   ],
   "source": [
    "graph_list = [circ_list[w].to_graph() for w in whichpyzx]\n",
    "[pyzx.full_reduce(g) for g in graph_list]\n",
    "pyzx.draw_many(graph_list, range(len(whichpyzx)))"
   ]
  },
  {
   "cell_type": "code",
   "execution_count": 10,
   "metadata": {
    "scrolled": true
   },
   "outputs": [],
   "source": [
    "pyzx_circ_list = [pyzx.extract.streaming_extract(g) for g in graph_list]\n",
    "\n",
    "pyzx_circ_list = [pyzx.optimize.basic_optimization(new_c.to_basic_gates()) for new_c in pyzx_circ_list]\n",
    "\n",
    "pyzx_qasm = [new_c.to_basic_gates().to_qasm() for new_c in pyzx_circ_list]\n",
    "\n",
    "passedAll = True\n",
    "for i in range(len(pyzx_circ_list)):\n",
    "    try:\n",
    "        assert(pyzx.compare_tensors(pyzx_circ_list[i], circ_list[whichpyzx[i]], False))\n",
    "    except AssertionError:\n",
    "        print(i)\n",
    "        print(circ_list[whichpyzx[i]].__dict__)\n",
    "        print(pyzx_circ_list[i].__dict__)\n",
    "        passedAll = False\n",
    "assert(passedAll)"
   ]
  },
  {
   "cell_type": "code",
   "execution_count": 11,
   "metadata": {},
   "outputs": [
    {
     "name": "stdout",
     "output_type": "stream",
     "text": [
      "\n",
      "rz(1.5*pi) q[0];\n",
      "cz q[0], q[1];\n",
      "h q[1];\n",
      "rz(0.5*pi) q[1];\n",
      "cz q[0], q[1];\n",
      "h q[1];\n",
      "z q[1];\n",
      "h q[0];\n",
      "\n",
      "\n",
      "rz(1.5*pi) q[1];\n",
      "cx q[1], q[0];\n",
      "h q[1];\n",
      "rz(0.5*pi) q[1];\n",
      "h q[0];\n",
      "z q[0];\n",
      "\n"
     ]
    }
   ],
   "source": [
    "pyzx_qasm = [\"\\n\".join(['' if line.startswith(\"qreg\") else line for line in circ.splitlines()[2:]]) for circ in pyzx_qasm]\n",
    "\n",
    "for new_qasm in pyzx_qasm:\n",
    "    [print(line) for line in new_qasm.splitlines()]\n",
    "    print()"
   ]
  },
  {
   "cell_type": "code",
   "execution_count": 12,
   "metadata": {
    "scrolled": true
   },
   "outputs": [
    {
     "name": "stdout",
     "output_type": "stream",
     "text": [
      "OPENQASM 2.0;\n",
      "include \"qelib1.inc\";\n",
      "qreg qr[2];\n",
      "creg cr[2];\n",
      "\n",
      "rz(1.5*pi) qr[0];\n",
      "cz qr[0], qr[1];\n",
      "h qr[1];\n",
      "rz(0.5*pi) qr[1];\n",
      "cz qr[0], qr[1];\n",
      "h qr[1];\n",
      "z qr[1];\n",
      "h qr[0];\n",
      "barrier qr[0],qr[1];\n",
      "\n",
      "rz(1.5*pi) qr[1];\n",
      "cx qr[1], qr[0];\n",
      "h qr[1];\n",
      "rz(0.5*pi) qr[1];\n",
      "h qr[0];\n",
      "z qr[0];\n",
      "measure qr[0] -> cr[0];\n",
      "measure qr[1] -> cr[1];\n"
     ]
    }
   ],
   "source": [
    "#now we need to map registers and glue all the pieces back together\n",
    "for i in range(len(pyzx_qasm)):\n",
    "    circ_list[whichpyzx[i]] = pyzx_qasm[i]\n",
    "#print(circ_list)\n",
    "## join the\n",
    "qasm_string = 'OPENQASM 2.0;\\ninclude \"qelib1.inc\";\\n'+\"\\n\".join(circ_list)\n",
    "qasm_string = qasm_string.replace('q[', 'qr[')\n",
    "print(qasm_string)"
   ]
  },
  {
   "cell_type": "code",
   "execution_count": null,
   "metadata": {},
   "outputs": [],
   "source": []
  },
  {
   "cell_type": "code",
   "execution_count": 13,
   "metadata": {
    "scrolled": true
   },
   "outputs": [],
   "source": [
    "# pqsl = [line + \"\\n\" for line in pyzx_qasm] #took out .splitlines()\n",
    "# qsl = [line + \"\\n\" for line in qasm.splitlines()]\n",
    "# # print(pqsl)\n",
    "# # print(qsl)\n",
    "# new_qasm = '\\n'.join(qsl[0:4]) + ''.join(pqsl[3:]) + ''.join(qsl[-2:])\n",
    "# new_qasm = new_qasm.replace('q[', 'qr[')\n",
    "# print(new_qasm)"
   ]
  },
  {
   "cell_type": "code",
   "execution_count": 14,
   "metadata": {},
   "outputs": [
    {
     "name": "stdout",
     "output_type": "stream",
     "text": [
      "         ┌────────────┐                         ┌───┐      ░               »\n",
      "qr_0: |0>┤ Rz(1.5*pi) ├─■─────────────────────■─┤ H ├──────░───────────────»\n",
      "         └────────────┘ │ ┌───┐┌────────────┐ │ ├───┤┌───┐ ░ ┌────────────┐»\n",
      "qr_1: |0>───────────────■─┤ H ├┤ Rz(0.5*pi) ├─■─┤ H ├┤ Z ├─░─┤ Rz(1.5*pi) ├»\n",
      "                          └───┘└────────────┘   └───┘└───┘ ░ └────────────┘»\n",
      " cr_0: 0 ══════════════════════════════════════════════════════════════════»\n",
      "                                                                           »\n",
      " cr_1: 0 ══════════════════════════════════════════════════════════════════»\n",
      "                                                                           »\n",
      "«      ┌───┐┌───┐    ┌───┐     ┌─┐   \n",
      "«qr_0: ┤ X ├┤ H ├────┤ Z ├─────┤M├───\n",
      "«      └─┬─┘├───┤┌───┴───┴────┐└╥┘┌─┐\n",
      "«qr_1: ──■──┤ H ├┤ Rz(0.5*pi) ├─╫─┤M├\n",
      "«           └───┘└────────────┘ ║ └╥┘\n",
      "«cr_0: ═════════════════════════╩══╬═\n",
      "«                                  ║ \n",
      "«cr_1: ════════════════════════════╩═\n",
      "«                                    \n"
     ]
    }
   ],
   "source": [
    "new_qc = qc.from_qasm_str(qasm_string)\n",
    "print(new_qc)"
   ]
  },
  {
   "cell_type": "code",
   "execution_count": 15,
   "metadata": {},
   "outputs": [
    {
     "name": "stdout",
     "output_type": "stream",
     "text": [
      "         ┌──────────┐┌──────────┐┌────────────┐     ┌─────────────┐»\n",
      "qr_0: |0>┤ U2(0,pi) ├┤ U2(0,pi) ├┤ U1(0.5*pi) ├──■──┤ U1(-0.5*pi) ├»\n",
      "         ├──────────┤├──────────┤├────────────┤┌─┴─┐└─┬──────────┬┘»\n",
      "qr_1: |0>┤ U2(0,pi) ├┤ U2(0,pi) ├┤ U1(0.5*pi) ├┤ X ├──┤ U2(0,pi) ├─»\n",
      "         └──────────┘└──────────┘└────────────┘└───┘  └──────────┘ »\n",
      " cr_0: 0 ══════════════════════════════════════════════════════════»\n",
      "                                                                   »\n",
      " cr_1: 0 ══════════════════════════════════════════════════════════»\n",
      "                                                                   »\n",
      "«       ┌──────────┐                          ░       ┌──────────┐      »\n",
      "«qr_0: ─┤ U2(0,pi) ├──────────────────────────░───────┤ U2(0,pi) ├──────»\n",
      "«      ┌┴──────────┴┐┌──────────────────────┐ ░ ┌─────┴──────────┴─────┐»\n",
      "«qr_1: ┤ U1(0.5*pi) ├┤ U3(pi,0.5*pi,0.5*pi) ├─░─┤ U3(pi,0.5*pi,0.5*pi) ├»\n",
      "«      └────────────┘└──────────────────────┘ ░ └──────────────────────┘»\n",
      "«cr_0: ═════════════════════════════════════════════════════════════════»\n",
      "«                                                                       »\n",
      "«cr_1: ═════════════════════════════════════════════════════════════════»\n",
      "«                                                                       »\n",
      "«       ┌────────────┐                 ┌─────────────┐┌──────────┐┌──────────┐»\n",
      "«qr_0: ─┤ U1(0.5*pi) ├──────────────■──┤ U1(-0.5*pi) ├┤ U2(0,pi) ├┤ U2(0,pi) ├»\n",
      "«      ┌┴────────────┤┌──────────┐┌─┴─┐├─────────────┤├──────────┤├──────────┤»\n",
      "«qr_1: ┤ U1(-0.5*pi) ├┤ U2(0,pi) ├┤ X ├┤ U1(-0.5*pi) ├┤ U2(0,pi) ├┤ U2(0,pi) ├»\n",
      "«      └─────────────┘└──────────┘└───┘└─────────────┘└──────────┘└──────────┘»\n",
      "«cr_0: ═══════════════════════════════════════════════════════════════════════»\n",
      "«                                                                             »\n",
      "«cr_1: ═══════════════════════════════════════════════════════════════════════»\n",
      "«                                                                             »\n",
      "«      ┌─┐   \n",
      "«qr_0: ┤M├───\n",
      "«      └╥┘┌─┐\n",
      "«qr_1: ─╫─┤M├\n",
      "«       ║ └╥┘\n",
      "«cr_0: ═╩══╬═\n",
      "«          ║ \n",
      "«cr_1: ════╩═\n",
      "«            \n"
     ]
    }
   ],
   "source": [
    "print(qc)"
   ]
  },
  {
   "cell_type": "code",
   "execution_count": 16,
   "metadata": {},
   "outputs": [],
   "source": [
    "import qiskit\n",
    "from qiskit.providers.basicaer import QasmSimulatorPy\n",
    "c1 = qiskit.execute(qc, QasmSimulatorPy()).result().get_counts()\n",
    "c2 = qiskit.execute(new_qc, QasmSimulatorPy()).result().get_counts()"
   ]
  },
  {
   "cell_type": "code",
   "execution_count": 17,
   "metadata": {},
   "outputs": [
    {
     "data": {
      "text/plain": [
       "{'00': 1024}"
      ]
     },
     "execution_count": 17,
     "metadata": {},
     "output_type": "execute_result"
    }
   ],
   "source": [
    "c1"
   ]
  },
  {
   "cell_type": "code",
   "execution_count": 18,
   "metadata": {},
   "outputs": [
    {
     "data": {
      "text/plain": [
       "{'00': 1024}"
      ]
     },
     "execution_count": 18,
     "metadata": {},
     "output_type": "execute_result"
    }
   ],
   "source": [
    "c2"
   ]
  },
  {
   "cell_type": "code",
   "execution_count": 19,
   "metadata": {},
   "outputs": [],
   "source": [
    "assert(c1 == c2)"
   ]
  },
  {
   "cell_type": "code",
   "execution_count": 20,
   "metadata": {},
   "outputs": [
    {
     "data": {
      "text/plain": [
       "15"
      ]
     },
     "execution_count": 20,
     "metadata": {},
     "output_type": "execute_result"
    }
   ],
   "source": [
    "qc.depth()"
   ]
  },
  {
   "cell_type": "code",
   "execution_count": 21,
   "metadata": {},
   "outputs": [
    {
     "data": {
      "text/plain": [
       "26"
      ]
     },
     "execution_count": 21,
     "metadata": {},
     "output_type": "execute_result"
    }
   ],
   "source": [
    "qc.size()"
   ]
  },
  {
   "cell_type": "code",
   "execution_count": 22,
   "metadata": {},
   "outputs": [
    {
     "data": {
      "text/plain": [
       "12"
      ]
     },
     "execution_count": 22,
     "metadata": {},
     "output_type": "execute_result"
    }
   ],
   "source": [
    "new_qc.depth()"
   ]
  },
  {
   "cell_type": "code",
   "execution_count": 23,
   "metadata": {},
   "outputs": [
    {
     "data": {
      "text/plain": [
       "16"
      ]
     },
     "execution_count": 23,
     "metadata": {},
     "output_type": "execute_result"
    }
   ],
   "source": [
    "new_qc.size()"
   ]
  },
  {
   "cell_type": "code",
   "execution_count": 24,
   "metadata": {},
   "outputs": [],
   "source": [
    "new_new_qc = qiskit.transpile(qc, basis_gates=['u3', 'cx'], optimization_level=2)"
   ]
  },
  {
   "cell_type": "code",
   "execution_count": 25,
   "metadata": {},
   "outputs": [
    {
     "name": "stdout",
     "output_type": "stream",
     "text": [
      "         ┌──────────┐         ┌────────────┐    ░ ┌──────────────────┐     »\n",
      "qr_0: |0>┤ U1(pi/2) ├──■──────┤ U2(0,pi/2) ├────░─┤ U3(pi/2,pi/2,pi) ├──■──»\n",
      "         ├──────────┤┌─┴─┐┌───┴────────────┴──┐ ░ ├──────────────────┤┌─┴─┐»\n",
      "qr_1: |0>┤ U1(pi/2) ├┤ X ├┤ U3(pi/2,pi/2,2pi) ├─░─┤ U3(pi/2,pi,pi/2) ├┤ X ├»\n",
      "         └──────────┘└───┘└───────────────────┘ ░ └──────────────────┘└───┘»\n",
      " cr_0: 0 ══════════════════════════════════════════════════════════════════»\n",
      "                                                                           »\n",
      " cr_1: 0 ══════════════════════════════════════════════════════════════════»\n",
      "                                                                           »\n",
      "«      ┌───────────┐┌─┐   \n",
      "«qr_0: ┤ U1(3pi/2) ├┤M├───\n",
      "«      ├───────────┤└╥┘┌─┐\n",
      "«qr_1: ┤ U1(3pi/2) ├─╫─┤M├\n",
      "«      └───────────┘ ║ └╥┘\n",
      "«cr_0: ══════════════╩══╬═\n",
      "«                       ║ \n",
      "«cr_1: ═════════════════╩═\n",
      "«                         \n"
     ]
    }
   ],
   "source": [
    "print(new_new_qc)"
   ]
  },
  {
   "cell_type": "code",
   "execution_count": 26,
   "metadata": {},
   "outputs": [
    {
     "data": {
      "text/plain": [
       "7"
      ]
     },
     "execution_count": 26,
     "metadata": {},
     "output_type": "execute_result"
    }
   ],
   "source": [
    "new_new_qc.depth()"
   ]
  },
  {
   "cell_type": "code",
   "execution_count": 27,
   "metadata": {},
   "outputs": [
    {
     "data": {
      "text/plain": [
       "12"
      ]
     },
     "execution_count": 27,
     "metadata": {},
     "output_type": "execute_result"
    }
   ],
   "source": [
    "new_new_qc.size()"
   ]
  },
  {
   "cell_type": "code",
   "execution_count": 28,
   "metadata": {
    "scrolled": true
   },
   "outputs": [
    {
     "name": "stdout",
     "output_type": "stream",
     "text": [
      "         ┌───────────┐                         ┌──────────┐ ░              »\n",
      "qr_0: |0>┤ U1(3pi/2) ├──■───────────────────■──┤ U2(0,pi) ├─░──────────────»\n",
      "         └┬──────────┤┌─┴─┐┌─────────────┐┌─┴─┐└┬────────┬┘ ░ ┌───────────┐»\n",
      "qr_1: |0>─┤ U2(0,pi) ├┤ X ├┤ U2(0,3pi/2) ├┤ X ├─┤ U1(pi) ├──░─┤ U1(3pi/2) ├»\n",
      "          └──────────┘└───┘└─────────────┘└───┘ └────────┘  ░ └───────────┘»\n",
      " cr_0: 0 ══════════════════════════════════════════════════════════════════»\n",
      "                                                                           »\n",
      " cr_1: 0 ══════════════════════════════════════════════════════════════════»\n",
      "                                                                           »\n",
      "«      ┌───┐ ┌────────────────┐ ┌─┐   \n",
      "«qr_0: ┤ X ├─┤ U3(pi/2,pi,pi) ├─┤M├───\n",
      "«      └─┬─┘┌┴────────────────┴┐└╥┘┌─┐\n",
      "«qr_1: ──■──┤ U3(pi/2,pi/2,pi) ├─╫─┤M├\n",
      "«           └──────────────────┘ ║ └╥┘\n",
      "«cr_0: ══════════════════════════╩══╬═\n",
      "«                                   ║ \n",
      "«cr_1: ═════════════════════════════╩═\n",
      "«                                     \n"
     ]
    }
   ],
   "source": [
    "doubly_qc = qiskit.transpile(new_qc, basis_gates=['u3', 'cx'], optimization_level=2)\n",
    "print(doubly_qc)"
   ]
  },
  {
   "cell_type": "code",
   "execution_count": 29,
   "metadata": {},
   "outputs": [
    {
     "data": {
      "text/plain": [
       "9"
      ]
     },
     "execution_count": 29,
     "metadata": {},
     "output_type": "execute_result"
    }
   ],
   "source": [
    "doubly_qc.depth()"
   ]
  },
  {
   "cell_type": "code",
   "execution_count": 30,
   "metadata": {},
   "outputs": [
    {
     "data": {
      "text/plain": [
       "13"
      ]
     },
     "execution_count": 30,
     "metadata": {},
     "output_type": "execute_result"
    }
   ],
   "source": [
    "doubly_qc.size()"
   ]
  },
  {
   "cell_type": "code",
   "execution_count": 31,
   "metadata": {},
   "outputs": [
    {
     "data": {
      "text/plain": [
       "{'00': 1024}"
      ]
     },
     "execution_count": 31,
     "metadata": {},
     "output_type": "execute_result"
    }
   ],
   "source": [
    "c3 = qiskit.execute(new_new_qc, QasmSimulatorPy()).result().get_counts()\n",
    "c4 = qiskit.execute(doubly_qc, QasmSimulatorPy()).result().get_counts()\n",
    "c3"
   ]
  },
  {
   "cell_type": "code",
   "execution_count": 32,
   "metadata": {},
   "outputs": [
    {
     "data": {
      "text/plain": [
       "{'00': 1024}"
      ]
     },
     "execution_count": 32,
     "metadata": {},
     "output_type": "execute_result"
    }
   ],
   "source": [
    "c4"
   ]
  },
  {
   "cell_type": "code",
   "execution_count": null,
   "metadata": {},
   "outputs": [],
   "source": []
  },
  {
   "cell_type": "code",
   "execution_count": null,
   "metadata": {},
   "outputs": [],
   "source": []
  },
  {
   "cell_type": "code",
   "execution_count": null,
   "metadata": {},
   "outputs": [],
   "source": []
  }
 ],
 "metadata": {
  "kernelspec": {
   "display_name": "Python 3",
   "language": "python",
   "name": "python3"
  },
  "language_info": {
   "codemirror_mode": {
    "name": "ipython",
    "version": 3
   },
   "file_extension": ".py",
   "mimetype": "text/x-python",
   "name": "python",
   "nbconvert_exporter": "python",
   "pygments_lexer": "ipython3",
   "version": "3.7.4"
  }
 },
 "nbformat": 4,
 "nbformat_minor": 2
}
