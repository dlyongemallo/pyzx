{
 "cells": [
  {
   "cell_type": "code",
   "execution_count": 42,
   "metadata": {},
   "outputs": [],
   "source": [
    "import math\n",
    "\n",
    "from qiskit import QuantumRegister, QuantumCircuit\n",
    "from qiskit import BasicAer\n",
    "try:\n",
    "    from qiskit.compiler import transpile\n",
    "except ImportError:\n",
    "    from qiskit.transpiler import transpile\n",
    "import pyzx\n",
    "from pyzx.circuit.qasmparser import QASMParser\n",
    "from pyzx.circuit.qiskitqasmparser import QiskitQASMParser"
   ]
  },
  {
   "cell_type": "code",
   "execution_count": 43,
   "metadata": {},
   "outputs": [],
   "source": [
    "\"\"\"Create quantum fourier transform circuit on quantum register qreg.\"\"\"\n",
    "n = 6 #hardcoded for now\n",
    "qreg = QuantumRegister(n)\n",
    "circuit = QuantumCircuit(qreg, name=\"qft\")\n",
    "n = len(qreg)\n",
    "for i in range(n):\n",
    "    for j in range(i):\n",
    "        circuit.cu1(math.pi/float(2**(i-j)), qreg[i], qreg[j])\n",
    "    circuit.h(qreg[i])"
   ]
  },
  {
   "cell_type": "code",
   "execution_count": 44,
   "metadata": {},
   "outputs": [],
   "source": [
    "qc = circuit"
   ]
  },
  {
   "cell_type": "code",
   "execution_count": 45,
   "metadata": {
    "scrolled": false
   },
   "outputs": [
    {
     "name": "stdout",
     "output_type": "stream",
     "text": [
      "\n",
      "Print QASM:\n",
      "OPENQASM 2.0;\n",
      "include \"qelib1.inc\";\n",
      "qreg q1[6];\n",
      "h q1[0];\n",
      "cu1(1.57079632679490) q1[1],q1[0];\n",
      "h q1[1];\n",
      "cu1(0.785398163397448) q1[2],q1[0];\n",
      "cu1(1.57079632679490) q1[2],q1[1];\n",
      "h q1[2];\n",
      "cu1(0.392699081698724) q1[3],q1[0];\n",
      "cu1(0.785398163397448) q1[3],q1[1];\n",
      "cu1(1.57079632679490) q1[3],q1[2];\n",
      "h q1[3];\n",
      "cu1(0.196349540849362) q1[4],q1[0];\n",
      "cu1(0.392699081698724) q1[4],q1[1];\n",
      "cu1(0.785398163397448) q1[4],q1[2];\n",
      "cu1(1.57079632679490) q1[4],q1[3];\n",
      "h q1[4];\n",
      "cu1(0.0981747704246810) q1[5],q1[0];\n",
      "cu1(0.196349540849362) q1[5],q1[1];\n",
      "cu1(0.392699081698724) q1[5],q1[2];\n",
      "cu1(0.785398163397448) q1[5],q1[3];\n",
      "cu1(1.57079632679490) q1[5],q1[4];\n",
      "h q1[5];\n",
      "\n"
     ]
    }
   ],
   "source": [
    "qasm = qc.qasm()\n",
    "### if you want to remove all barriers\n",
    "## qasm = '\\n'.join(['' if line.startswith(\"barrier\") else line for line in qasm.splitlines()])\n",
    "\n",
    "qc = qc.from_qasm_str(qasm)\n",
    "\n",
    "print(\"\\nPrint QASM:\")\n",
    "print(qasm)"
   ]
  },
  {
   "cell_type": "code",
   "execution_count": 46,
   "metadata": {},
   "outputs": [
    {
     "name": "stdout",
     "output_type": "stream",
     "text": [
      "         ┌───┐                                                            »\n",
      "q1_0: |0>┤ H ├─■──────■──────────────────■─────────────■──────────────────»\n",
      "         └───┘ │pi/2  │     ┌───┐        │             │                  »\n",
      "q1_1: |0>──────■──────┼─────┤ H ├─■──────┼──────■──────┼──────────────────»\n",
      "                      │pi/4 └───┘ │pi/2  │      │      │      ┌───┐       »\n",
      "q1_2: |0>─────────────■───────────■──────┼──────┼──────┼──────┤ H ├─■─────»\n",
      "                                         │pi/8  │pi/4  │      └───┘ │pi/2 »\n",
      "q1_3: |0>────────────────────────────────■──────■──────┼────────────■─────»\n",
      "                                                       │pi/16             »\n",
      "q1_4: |0>──────────────────────────────────────────────■──────────────────»\n",
      "                                                                          »\n",
      "q1_5: |0>─────────────────────────────────────────────────────────────────»\n",
      "                                                                          »\n",
      "«                                                                          »\n",
      "«q1_0: ────────■───────────────────────────────────────────────────────────»\n",
      "«              │                                                           »\n",
      "«q1_1: ─■──────┼──────────────■────────────────────────────────────────────»\n",
      "«       │      │              │                                            »\n",
      "«q1_2: ─┼──────┼───────■──────┼───────────────────■────────────────────────»\n",
      "«       │      │       │      │      ┌───┐        │                        »\n",
      "«q1_3: ─┼──────┼───────┼──────┼──────┤ H ├─■──────┼──────■─────────────────»\n",
      "«       │pi/8  │       │pi/4  │      └───┘ │pi/2  │      │     ┌───┐       »\n",
      "«q1_4: ─■──────┼───────■──────┼────────────■──────┼──────┼─────┤ H ├─■─────»\n",
      "«              │pi/32         │pi/16              │pi/8  │pi/4 └───┘ │pi/2 »\n",
      "«q1_5: ────────■──────────────■───────────────────■──────■───────────■─────»\n",
      "«                                                                          »\n",
      "«           \n",
      "«q1_0: ─────\n",
      "«           \n",
      "«q1_1: ─────\n",
      "«           \n",
      "«q1_2: ─────\n",
      "«           \n",
      "«q1_3: ─────\n",
      "«           \n",
      "«q1_4: ─────\n",
      "«      ┌───┐\n",
      "«q1_5: ┤ H ├\n",
      "«      └───┘\n"
     ]
    }
   ],
   "source": [
    "# Draw the circuit\n",
    "print(qc)"
   ]
  },
  {
   "cell_type": "code",
   "execution_count": 47,
   "metadata": {},
   "outputs": [
    {
     "name": "stdout",
     "output_type": "stream",
     "text": [
      "['qreg q1[6];', Circuit(6 qubits, 1 gates), 'cu1(1.57079632679490) q1[1],q1[0];', Circuit(6 qubits, 1 gates), 'cu1(0.785398163397448) q1[2],q1[0];', 'cu1(1.57079632679490) q1[2],q1[1];', Circuit(6 qubits, 1 gates), 'cu1(0.392699081698724) q1[3],q1[0];', 'cu1(0.785398163397448) q1[3],q1[1];', 'cu1(1.57079632679490) q1[3],q1[2];', Circuit(6 qubits, 1 gates), 'cu1(0.196349540849362) q1[4],q1[0];', 'cu1(0.392699081698724) q1[4],q1[1];', 'cu1(0.785398163397448) q1[4],q1[2];', 'cu1(1.57079632679490) q1[4],q1[3];', Circuit(6 qubits, 1 gates), 'cu1(0.0981747704246810) q1[5],q1[0];', 'cu1(0.196349540849362) q1[5],q1[1];', 'cu1(0.392699081698724) q1[5],q1[2];', 'cu1(0.785398163397448) q1[5],q1[3];', 'cu1(1.57079632679490) q1[5],q1[4];', Circuit(6 qubits, 1 gates)]\n",
      "[1, 3, 6, 10, 15, 21]\n",
      "{'q1': (0, 6)}\n"
     ]
    }
   ],
   "source": [
    "p = QiskitQASMParser()\n",
    "circ_list, whichpyzx = p.qiskitparse(qasm)\n",
    "print(circ_list)\n",
    "print(whichpyzx)\n",
    "print(p.registers)"
   ]
  },
  {
   "cell_type": "code",
   "execution_count": 48,
   "metadata": {
    "scrolled": false
   },
   "outputs": [
    {
     "data": {
      "image/png": "[encoded data removed]",
      "text/plain": [
       "<Figure size 432x288 with 6 Axes>"
      ]
     },
     "execution_count": 48,
     "metadata": {},
     "output_type": "execute_result"
    }
   ],
   "source": [
    "#qasm = qc.decompose().qasm()\n",
    "pyzx.draw_many(circ_list, whichpyzx)"
   ]
  },
  {
   "cell_type": "code",
   "execution_count": 49,
   "metadata": {},
   "outputs": [
    {
     "data": {
      "image/png": "[encoded data removed]",
      "text/plain": [
       "<Figure size 432x288 with 6 Axes>"
      ]
     },
     "execution_count": 49,
     "metadata": {},
     "output_type": "execute_result"
    }
   ],
   "source": [
    "graph_list = [circ_list[w].to_graph() for w in whichpyzx]\n",
    "[pyzx.full_reduce(g) for g in graph_list]\n",
    "pyzx.draw_many(graph_list, range(len(whichpyzx)))"
   ]
  },
  {
   "cell_type": "code",
   "execution_count": 50,
   "metadata": {
    "scrolled": true
   },
   "outputs": [],
   "source": [
    "pyzx_circ_list = [pyzx.extract.streaming_extract(g) for g in graph_list]\n",
    "\n",
    "for i in range(len(pyzx_circ_list)):\n",
    "    prev = pyzx_circ_list[i]\n",
    "    next = pyzx.extract.streaming_extract(graph_list[i])\n",
    "    while prev.gates != next.gates:\n",
    "        for j in range(len(next.gates))[::-1]:\n",
    "            pyzx_circ_list[i].add_gate_to_front(next.gates[j])\n",
    "        prev = next\n",
    "        next = pyzx.extract.streaming_extract(graph_list[i])\n",
    "\n",
    "pyzx_circ_list = [pyzx.optimize.basic_optimization(new_c.to_basic_gates()) for new_c in pyzx_circ_list]\n",
    "\n",
    "pyzx_qasm = [new_c.to_basic_gates().to_qasm() for new_c in pyzx_circ_list]\n",
    "\n",
    "passedAll = True\n",
    "for i in range(len(pyzx_circ_list)):\n",
    "    try:\n",
    "        assert(pyzx.compare_tensors(pyzx_circ_list[i], circ_list[whichpyzx[i]]))\n",
    "    except AssertionError:\n",
    "        print(i)\n",
    "        print(circ_list[whichpyzx[i]].__dict__)\n",
    "        print(pyzx_circ_list[i].__dict__)\n",
    "        passedAll = False\n",
    "assert(passedAll)"
   ]
  },
  {
   "cell_type": "code",
   "execution_count": 51,
   "metadata": {},
   "outputs": [
    {
     "name": "stdout",
     "output_type": "stream",
     "text": [
      "\n",
      "h q[0];\n",
      "\n",
      "\n",
      "h q[1];\n",
      "\n",
      "\n",
      "h q[2];\n",
      "\n",
      "\n",
      "h q[3];\n",
      "\n",
      "\n",
      "h q[4];\n",
      "\n",
      "\n",
      "h q[5];\n",
      "\n"
     ]
    }
   ],
   "source": [
    "pyzx_qasm = [\"\\n\".join(['' if line.startswith(\"qreg\") else line for line in circ.splitlines()[2:]]) for circ in pyzx_qasm]\n",
    "\n",
    "for new_qasm in pyzx_qasm:\n",
    "    [print(line) for line in new_qasm.splitlines()]\n",
    "    print()"
   ]
  },
  {
   "cell_type": "code",
   "execution_count": 56,
   "metadata": {
    "scrolled": true
   },
   "outputs": [
    {
     "name": "stdout",
     "output_type": "stream",
     "text": [
      "OPENQASM 2.0;\n",
      "include \"qelib1.inc\";\n",
      "qreg q1[6];\n",
      "\n",
      "h q1[0];\n",
      "cu1(1.57079632679490) q1[1],q1[0];\n",
      "\n",
      "h q1[1];\n",
      "cu1(0.785398163397448) q1[2],q1[0];\n",
      "cu1(1.57079632679490) q1[2],q1[1];\n",
      "\n",
      "h q1[2];\n",
      "cu1(0.392699081698724) q1[3],q1[0];\n",
      "cu1(0.785398163397448) q1[3],q1[1];\n",
      "cu1(1.57079632679490) q1[3],q1[2];\n",
      "\n",
      "h q1[3];\n",
      "cu1(0.196349540849362) q1[4],q1[0];\n",
      "cu1(0.392699081698724) q1[4],q1[1];\n",
      "cu1(0.785398163397448) q1[4],q1[2];\n",
      "cu1(1.57079632679490) q1[4],q1[3];\n",
      "\n",
      "h q1[4];\n",
      "cu1(0.0981747704246810) q1[5],q1[0];\n",
      "cu1(0.196349540849362) q1[5],q1[1];\n",
      "cu1(0.392699081698724) q1[5],q1[2];\n",
      "cu1(0.785398163397448) q1[5],q1[3];\n",
      "cu1(1.57079632679490) q1[5],q1[4];\n",
      "\n",
      "h q1[5];\n"
     ]
    }
   ],
   "source": [
    "#now we need to map registers and glue all the pieces back together\n",
    "for i in range(len(pyzx_qasm)):\n",
    "    circ_list[whichpyzx[i]] = pyzx_qasm[i]\n",
    "#print(circ_list)\n",
    "## join the\n",
    "qasm_string = 'OPENQASM 2.0;\\ninclude \"qelib1.inc\";\\n'+\"\\n\".join(circ_list)\n",
    "qasm_string = qasm_string.replace('q[', 'q1[') #this is buggy, the register number is not fixed\n",
    "print(qasm_string)"
   ]
  },
  {
   "cell_type": "code",
   "execution_count": null,
   "metadata": {},
   "outputs": [],
   "source": []
  },
  {
   "cell_type": "code",
   "execution_count": 57,
   "metadata": {
    "scrolled": true
   },
   "outputs": [],
   "source": [
    "# pqsl = [line + \"\\n\" for line in pyzx_qasm] #took out .splitlines()\n",
    "# qsl = [line + \"\\n\" for line in qasm.splitlines()]\n",
    "# # print(pqsl)\n",
    "# # print(qsl)\n",
    "# new_qasm = '\\n'.join(qsl[0:4]) + ''.join(pqsl[3:]) + ''.join(qsl[-2:])\n",
    "# new_qasm = new_qasm.replace('q[', 'qr[')\n",
    "# print(new_qasm)"
   ]
  },
  {
   "cell_type": "code",
   "execution_count": 58,
   "metadata": {},
   "outputs": [
    {
     "name": "stdout",
     "output_type": "stream",
     "text": [
      "         ┌───┐                                                            »\n",
      "q1_0: |0>┤ H ├─■──────■──────────────────■─────────────■──────────────────»\n",
      "         └───┘ │pi/2  │     ┌───┐        │             │                  »\n",
      "q1_1: |0>──────■──────┼─────┤ H ├─■──────┼──────■──────┼──────────────────»\n",
      "                      │pi/4 └───┘ │pi/2  │      │      │      ┌───┐       »\n",
      "q1_2: |0>─────────────■───────────■──────┼──────┼──────┼──────┤ H ├─■─────»\n",
      "                                         │pi/8  │pi/4  │      └───┘ │pi/2 »\n",
      "q1_3: |0>────────────────────────────────■──────■──────┼────────────■─────»\n",
      "                                                       │pi/16             »\n",
      "q1_4: |0>──────────────────────────────────────────────■──────────────────»\n",
      "                                                                          »\n",
      "q1_5: |0>─────────────────────────────────────────────────────────────────»\n",
      "                                                                          »\n",
      "«                                                                          »\n",
      "«q1_0: ────────■───────────────────────────────────────────────────────────»\n",
      "«              │                                                           »\n",
      "«q1_1: ─■──────┼──────────────■────────────────────────────────────────────»\n",
      "«       │      │              │                                            »\n",
      "«q1_2: ─┼──────┼───────■──────┼───────────────────■────────────────────────»\n",
      "«       │      │       │      │      ┌───┐        │                        »\n",
      "«q1_3: ─┼──────┼───────┼──────┼──────┤ H ├─■──────┼──────■─────────────────»\n",
      "«       │pi/8  │       │pi/4  │      └───┘ │pi/2  │      │     ┌───┐       »\n",
      "«q1_4: ─■──────┼───────■──────┼────────────■──────┼──────┼─────┤ H ├─■─────»\n",
      "«              │pi/32         │pi/16              │pi/8  │pi/4 └───┘ │pi/2 »\n",
      "«q1_5: ────────■──────────────■───────────────────■──────■───────────■─────»\n",
      "«                                                                          »\n",
      "«           \n",
      "«q1_0: ─────\n",
      "«           \n",
      "«q1_1: ─────\n",
      "«           \n",
      "«q1_2: ─────\n",
      "«           \n",
      "«q1_3: ─────\n",
      "«           \n",
      "«q1_4: ─────\n",
      "«      ┌───┐\n",
      "«q1_5: ┤ H ├\n",
      "«      └───┘\n"
     ]
    }
   ],
   "source": [
    "new_qc = qc.from_qasm_str(qasm_string)\n",
    "print(new_qc)"
   ]
  },
  {
   "cell_type": "code",
   "execution_count": 59,
   "metadata": {},
   "outputs": [
    {
     "name": "stdout",
     "output_type": "stream",
     "text": [
      "         ┌───┐                                                            »\n",
      "q1_0: |0>┤ H ├─■──────■──────────────────■─────────────■──────────────────»\n",
      "         └───┘ │pi/2  │     ┌───┐        │             │                  »\n",
      "q1_1: |0>──────■──────┼─────┤ H ├─■──────┼──────■──────┼──────────────────»\n",
      "                      │pi/4 └───┘ │pi/2  │      │      │      ┌───┐       »\n",
      "q1_2: |0>─────────────■───────────■──────┼──────┼──────┼──────┤ H ├─■─────»\n",
      "                                         │pi/8  │pi/4  │      └───┘ │pi/2 »\n",
      "q1_3: |0>────────────────────────────────■──────■──────┼────────────■─────»\n",
      "                                                       │pi/16             »\n",
      "q1_4: |0>──────────────────────────────────────────────■──────────────────»\n",
      "                                                                          »\n",
      "q1_5: |0>─────────────────────────────────────────────────────────────────»\n",
      "                                                                          »\n",
      "«                                                                          »\n",
      "«q1_0: ────────■───────────────────────────────────────────────────────────»\n",
      "«              │                                                           »\n",
      "«q1_1: ─■──────┼──────────────■────────────────────────────────────────────»\n",
      "«       │      │              │                                            »\n",
      "«q1_2: ─┼──────┼───────■──────┼───────────────────■────────────────────────»\n",
      "«       │      │       │      │      ┌───┐        │                        »\n",
      "«q1_3: ─┼──────┼───────┼──────┼──────┤ H ├─■──────┼──────■─────────────────»\n",
      "«       │pi/8  │       │pi/4  │      └───┘ │pi/2  │      │     ┌───┐       »\n",
      "«q1_4: ─■──────┼───────■──────┼────────────■──────┼──────┼─────┤ H ├─■─────»\n",
      "«              │pi/32         │pi/16              │pi/8  │pi/4 └───┘ │pi/2 »\n",
      "«q1_5: ────────■──────────────■───────────────────■──────■───────────■─────»\n",
      "«                                                                          »\n",
      "«           \n",
      "«q1_0: ─────\n",
      "«           \n",
      "«q1_1: ─────\n",
      "«           \n",
      "«q1_2: ─────\n",
      "«           \n",
      "«q1_3: ─────\n",
      "«           \n",
      "«q1_4: ─────\n",
      "«      ┌───┐\n",
      "«q1_5: ┤ H ├\n",
      "«      └───┘\n"
     ]
    }
   ],
   "source": [
    "print(qc)"
   ]
  },
  {
   "cell_type": "code",
   "execution_count": 60,
   "metadata": {},
   "outputs": [
    {
     "name": "stderr",
     "output_type": "stream",
     "text": [
      "No classical registers in circuit \"circuit13\", counts will be empty.\n",
      "No classical registers in circuit \"circuit14\", counts will be empty.\n"
     ]
    }
   ],
   "source": [
    "import qiskit\n",
    "from qiskit.providers.basicaer import QasmSimulatorPy\n",
    "c1 = qiskit.execute(qc, QasmSimulatorPy()).result().get_counts()\n",
    "c2 = qiskit.execute(new_qc, QasmSimulatorPy()).result().get_counts()"
   ]
  },
  {
   "cell_type": "code",
   "execution_count": 61,
   "metadata": {},
   "outputs": [],
   "source": [
    "c1\n",
    "c2\n",
    "assert(c1 == c2)"
   ]
  },
  {
   "cell_type": "code",
   "execution_count": 62,
   "metadata": {},
   "outputs": [],
   "source": [
    "qiskit_transpiled_qc = qiskit.transpile(qc, basis_gates=['u3', 'cx'], optimization_level=2)"
   ]
  },
  {
   "cell_type": "code",
   "execution_count": 63,
   "metadata": {},
   "outputs": [
    {
     "name": "stdout",
     "output_type": "stream",
     "text": [
      "          ┌──────────┐ ┌───┐┌───────────┐┌───┐┌──────────┐┌───┐┌───────────┐»\n",
      "q1_0: |0>─┤ U2(0,pi) ├─┤ X ├┤ U1(-pi/4) ├┤ X ├┤ U1(pi/4) ├┤ X ├┤ U1(-pi/8) ├»\n",
      "          ├──────────┤ └─┬─┘└───────────┘└─┬─┘├──────────┤└─┬─┘└───────────┘»\n",
      "q1_1: |0>─┤ U1(pi/4) ├───■─────────────────■──┤ U2(0,pi) ├──┼───────────────»\n",
      "         ┌┴──────────┤                        └──────────┘  │               »\n",
      "q1_2: |0>┤ U1(3pi/8) ├──────────────────────────────────────■───────────────»\n",
      "         ├───────────┴┐                                                     »\n",
      "q1_3: |0>┤ U1(1.3744) ├─────────────────────────────────────────────────────»\n",
      "         ├────────────┤                                                     »\n",
      "q1_4: |0>┤ U1(1.4726) ├─────────────────────────────────────────────────────»\n",
      "         ├────────────┤                                                     »\n",
      "q1_5: |0>┤ U1(1.5217) ├─────────────────────────────────────────────────────»\n",
      "         └────────────┘                                                     »\n",
      "«      ┌───┐┌──────────┐┌───┐             ┌────────────┐┌───┐            »\n",
      "«q1_0: ┤ X ├┤ U1(pi/8) ├┤ X ├─────────────┤ U1(-pi/16) ├┤ X ├────────────»\n",
      "«      └─┬─┘└──┬───┬───┘└─┬─┘┌───────────┐└───┬───┬────┘└─┬─┘┌──────────┐»\n",
      "«q1_1: ──┼─────┤ X ├──────┼──┤ U1(-pi/4) ├────┤ X ├───────┼──┤ U1(pi/4) ├»\n",
      "«        │     └─┬─┘      │  └───────────┘    └─┬─┘       │  ├──────────┤»\n",
      "«q1_2: ──■───────■────────┼─────────────────────■─────────┼──┤ U2(0,pi) ├»\n",
      "«                         │                               │  └──────────┘»\n",
      "«q1_3: ───────────────────■───────────────────────────────■──────────────»\n",
      "«                                                                        »\n",
      "«q1_4: ──────────────────────────────────────────────────────────────────»\n",
      "«                                                                        »\n",
      "«q1_5: ──────────────────────────────────────────────────────────────────»\n",
      "«                                                                        »\n",
      "«      ┌───────────┐┌───┐             ┌────────────┐     ┌───┐                 »\n",
      "«q1_0: ┤ U1(pi/16) ├┤ X ├─────────────┤ U1(-pi/32) ├─────┤ X ├─────────────────»\n",
      "«      └───┬───┬───┘└─┬─┘┌───────────┐└───┬───┬────┘     └─┬─┘┌──────────┐┌───┐»\n",
      "«q1_1: ────┤ X ├──────┼──┤ U1(-pi/8) ├────┤ X ├────────────┼──┤ U1(pi/8) ├┤ X ├»\n",
      "«          └─┬─┘      │  └───────────┘    └─┬─┘     ┌───┐  │  └──────────┘└─┬─┘»\n",
      "«q1_2: ──────┼────────┼─────────────────────┼───────┤ X ├──┼────────────────┼──»\n",
      "«            │        │                     │       └─┬─┘  │                │  »\n",
      "«q1_3: ──────■────────┼─────────────────────■─────────■────┼────────────────┼──»\n",
      "«                     │                                    │                │  »\n",
      "«q1_4: ───────────────■────────────────────────────────────■────────────────■──»\n",
      "«                                                                              »\n",
      "«q1_5: ────────────────────────────────────────────────────────────────────────»\n",
      "«                                                                              »\n",
      "«      ┌───────────┐     ┌───┐                   ┌────────────┐     ┌───┐»\n",
      "«q1_0: ┤ U1(pi/32) ├─────┤ X ├───────────────────┤ U1(-pi/64) ├─────┤ X ├»\n",
      "«      └───────────┘     └─┬─┘┌────────────┐┌───┐└────────────┘     └─┬─┘»\n",
      "«q1_1: ────────────────────┼──┤ U1(-pi/16) ├┤ X ├─────────────────────┼──»\n",
      "«      ┌───────────┐┌───┐  │  └────────────┘└─┬─┘ ┌──────────┐ ┌───┐  │  »\n",
      "«q1_2: ┤ U1(-pi/4) ├┤ X ├──┼──────────────────┼───┤ U1(pi/4) ├─┤ X ├──┼──»\n",
      "«      └───────────┘└─┬─┘  │                  │   ├──────────┤ └─┬─┘  │  »\n",
      "«q1_3: ───────────────■────┼──────────────────┼───┤ U2(0,pi) ├───┼────┼──»\n",
      "«                          │                  │   └──────────┘   │    │  »\n",
      "«q1_4: ────────────────────┼──────────────────■──────────────────■────┼──»\n",
      "«                          │                                          │  »\n",
      "«q1_5: ────────────────────■──────────────────────────────────────────■──»\n",
      "«                                                                        »\n",
      "«                        ┌───────────┐                                         »\n",
      "«q1_0: ──────────────────┤ U1(pi/64) ├─────────────────────────────────────────»\n",
      "«      ┌───────────┐┌───┐└───────────┘┌────────────┐     ┌───┐                 »\n",
      "«q1_1: ┤ U1(pi/16) ├┤ X ├─────────────┤ U1(-pi/32) ├─────┤ X ├─────────────────»\n",
      "«      └───────────┘└─┬─┘┌───────────┐└───┬───┬────┘     └─┬─┘┌──────────┐┌───┐»\n",
      "«q1_2: ───────────────┼──┤ U1(-pi/8) ├────┤ X ├────────────┼──┤ U1(pi/8) ├┤ X ├»\n",
      "«                     │  └───────────┘    └─┬─┘     ┌───┐  │  └──────────┘└─┬─┘»\n",
      "«q1_3: ───────────────┼─────────────────────┼───────┤ X ├──┼────────────────┼──»\n",
      "«                     │                     │       └─┬─┘  │                │  »\n",
      "«q1_4: ───────────────┼─────────────────────■─────────■────┼────────────────┼──»\n",
      "«                     │                                    │                │  »\n",
      "«q1_5: ───────────────■────────────────────────────────────■────────────────■──»\n",
      "«                                                                              »\n",
      "«                                                                            »\n",
      "«q1_0: ──────────────────────────────────────────────────────────────────────»\n",
      "«      ┌───────────┐                                                         »\n",
      "«q1_1: ┤ U1(pi/32) ├─────────────────────────────────────────────────────────»\n",
      "«      └───────────┘┌────────────┐┌───┐            ┌───────────┐             »\n",
      "«q1_2: ─────────────┤ U1(-pi/16) ├┤ X ├────────────┤ U1(pi/16) ├─────────────»\n",
      "«      ┌───────────┐└───┬───┬────┘└─┬─┘┌──────────┐└───┬───┬───┘┌───────────┐»\n",
      "«q1_3: ┤ U1(-pi/4) ├────┤ X ├───────┼──┤ U1(pi/4) ├────┤ X ├────┤ U1(-pi/8) ├»\n",
      "«      └───────────┘    └─┬─┘       │  ├──────────┤    └─┬─┘    └───────────┘»\n",
      "«q1_4: ───────────────────■─────────┼──┤ U2(0,pi) ├──────┼───────────────────»\n",
      "«                                   │  └──────────┘      │                   »\n",
      "«q1_5: ─────────────────────────────■────────────────────■───────────────────»\n",
      "«                                                                            »\n",
      "«                                                     \n",
      "«q1_0: ───────────────────────────────────────────────\n",
      "«                                                     \n",
      "«q1_1: ───────────────────────────────────────────────\n",
      "«                                                     \n",
      "«q1_2: ───────────────────────────────────────────────\n",
      "«      ┌───┐┌──────────┐                              \n",
      "«q1_3: ┤ X ├┤ U1(pi/8) ├──────────────────────────────\n",
      "«      └─┬─┘└──┬───┬───┘┌───────────┐┌───┐┌──────────┐\n",
      "«q1_4: ──┼─────┤ X ├────┤ U1(-pi/4) ├┤ X ├┤ U1(pi/4) ├\n",
      "«        │     └─┬─┘    └───────────┘└─┬─┘├──────────┤\n",
      "«q1_5: ──■───────■─────────────────────■──┤ U2(0,pi) ├\n",
      "«                                         └──────────┘\n"
     ]
    }
   ],
   "source": [
    "print(qiskit_transpiled_qc)"
   ]
  },
  {
   "cell_type": "code",
   "execution_count": 64,
   "metadata": {},
   "outputs": [
    {
     "name": "stdout",
     "output_type": "stream",
     "text": [
      "          ┌──────────┐ ┌───┐┌───────────┐┌───┐┌──────────┐┌───┐┌───────────┐»\n",
      "q1_0: |0>─┤ U2(0,pi) ├─┤ X ├┤ U1(-pi/4) ├┤ X ├┤ U1(pi/4) ├┤ X ├┤ U1(-pi/8) ├»\n",
      "          ├──────────┤ └─┬─┘└───────────┘└─┬─┘├──────────┤└─┬─┘└───────────┘»\n",
      "q1_1: |0>─┤ U1(pi/4) ├───■─────────────────■──┤ U2(0,pi) ├──┼───────────────»\n",
      "         ┌┴──────────┤                        └──────────┘  │               »\n",
      "q1_2: |0>┤ U1(3pi/8) ├──────────────────────────────────────■───────────────»\n",
      "         ├───────────┴┐                                                     »\n",
      "q1_3: |0>┤ U1(1.3744) ├─────────────────────────────────────────────────────»\n",
      "         ├────────────┤                                                     »\n",
      "q1_4: |0>┤ U1(1.4726) ├─────────────────────────────────────────────────────»\n",
      "         ├────────────┤                                                     »\n",
      "q1_5: |0>┤ U1(1.5217) ├─────────────────────────────────────────────────────»\n",
      "         └────────────┘                                                     »\n",
      "«      ┌───┐┌──────────┐┌───┐             ┌────────────┐┌───┐            »\n",
      "«q1_0: ┤ X ├┤ U1(pi/8) ├┤ X ├─────────────┤ U1(-pi/16) ├┤ X ├────────────»\n",
      "«      └─┬─┘└──┬───┬───┘└─┬─┘┌───────────┐└───┬───┬────┘└─┬─┘┌──────────┐»\n",
      "«q1_1: ──┼─────┤ X ├──────┼──┤ U1(-pi/4) ├────┤ X ├───────┼──┤ U1(pi/4) ├»\n",
      "«        │     └─┬─┘      │  └───────────┘    └─┬─┘       │  ├──────────┤»\n",
      "«q1_2: ──■───────■────────┼─────────────────────■─────────┼──┤ U2(0,pi) ├»\n",
      "«                         │                               │  └──────────┘»\n",
      "«q1_3: ───────────────────■───────────────────────────────■──────────────»\n",
      "«                                                                        »\n",
      "«q1_4: ──────────────────────────────────────────────────────────────────»\n",
      "«                                                                        »\n",
      "«q1_5: ──────────────────────────────────────────────────────────────────»\n",
      "«                                                                        »\n",
      "«      ┌───────────┐┌───┐             ┌────────────┐     ┌───┐                 »\n",
      "«q1_0: ┤ U1(pi/16) ├┤ X ├─────────────┤ U1(-pi/32) ├─────┤ X ├─────────────────»\n",
      "«      └───┬───┬───┘└─┬─┘┌───────────┐└───┬───┬────┘     └─┬─┘┌──────────┐┌───┐»\n",
      "«q1_1: ────┤ X ├──────┼──┤ U1(-pi/8) ├────┤ X ├────────────┼──┤ U1(pi/8) ├┤ X ├»\n",
      "«          └─┬─┘      │  └───────────┘    └─┬─┘     ┌───┐  │  └──────────┘└─┬─┘»\n",
      "«q1_2: ──────┼────────┼─────────────────────┼───────┤ X ├──┼────────────────┼──»\n",
      "«            │        │                     │       └─┬─┘  │                │  »\n",
      "«q1_3: ──────■────────┼─────────────────────■─────────■────┼────────────────┼──»\n",
      "«                     │                                    │                │  »\n",
      "«q1_4: ───────────────■────────────────────────────────────■────────────────■──»\n",
      "«                                                                              »\n",
      "«q1_5: ────────────────────────────────────────────────────────────────────────»\n",
      "«                                                                              »\n",
      "«      ┌───────────┐     ┌───┐                   ┌────────────┐     ┌───┐»\n",
      "«q1_0: ┤ U1(pi/32) ├─────┤ X ├───────────────────┤ U1(-pi/64) ├─────┤ X ├»\n",
      "«      └───────────┘     └─┬─┘┌────────────┐┌───┐└────────────┘     └─┬─┘»\n",
      "«q1_1: ────────────────────┼──┤ U1(-pi/16) ├┤ X ├─────────────────────┼──»\n",
      "«      ┌───────────┐┌───┐  │  └────────────┘└─┬─┘ ┌──────────┐ ┌───┐  │  »\n",
      "«q1_2: ┤ U1(-pi/4) ├┤ X ├──┼──────────────────┼───┤ U1(pi/4) ├─┤ X ├──┼──»\n",
      "«      └───────────┘└─┬─┘  │                  │   ├──────────┤ └─┬─┘  │  »\n",
      "«q1_3: ───────────────■────┼──────────────────┼───┤ U2(0,pi) ├───┼────┼──»\n",
      "«                          │                  │   └──────────┘   │    │  »\n",
      "«q1_4: ────────────────────┼──────────────────■──────────────────■────┼──»\n",
      "«                          │                                          │  »\n",
      "«q1_5: ────────────────────■──────────────────────────────────────────■──»\n",
      "«                                                                        »\n",
      "«                        ┌───────────┐                                         »\n",
      "«q1_0: ──────────────────┤ U1(pi/64) ├─────────────────────────────────────────»\n",
      "«      ┌───────────┐┌───┐└───────────┘┌────────────┐     ┌───┐                 »\n",
      "«q1_1: ┤ U1(pi/16) ├┤ X ├─────────────┤ U1(-pi/32) ├─────┤ X ├─────────────────»\n",
      "«      └───────────┘└─┬─┘┌───────────┐└───┬───┬────┘     └─┬─┘┌──────────┐┌───┐»\n",
      "«q1_2: ───────────────┼──┤ U1(-pi/8) ├────┤ X ├────────────┼──┤ U1(pi/8) ├┤ X ├»\n",
      "«                     │  └───────────┘    └─┬─┘     ┌───┐  │  └──────────┘└─┬─┘»\n",
      "«q1_3: ───────────────┼─────────────────────┼───────┤ X ├──┼────────────────┼──»\n",
      "«                     │                     │       └─┬─┘  │                │  »\n",
      "«q1_4: ───────────────┼─────────────────────■─────────■────┼────────────────┼──»\n",
      "«                     │                                    │                │  »\n",
      "«q1_5: ───────────────■────────────────────────────────────■────────────────■──»\n",
      "«                                                                              »\n",
      "«                                                                            »\n",
      "«q1_0: ──────────────────────────────────────────────────────────────────────»\n",
      "«      ┌───────────┐                                                         »\n",
      "«q1_1: ┤ U1(pi/32) ├─────────────────────────────────────────────────────────»\n",
      "«      └───────────┘┌────────────┐┌───┐            ┌───────────┐             »\n",
      "«q1_2: ─────────────┤ U1(-pi/16) ├┤ X ├────────────┤ U1(pi/16) ├─────────────»\n",
      "«      ┌───────────┐└───┬───┬────┘└─┬─┘┌──────────┐└───┬───┬───┘┌───────────┐»\n",
      "«q1_3: ┤ U1(-pi/4) ├────┤ X ├───────┼──┤ U1(pi/4) ├────┤ X ├────┤ U1(-pi/8) ├»\n",
      "«      └───────────┘    └─┬─┘       │  ├──────────┤    └─┬─┘    └───────────┘»\n",
      "«q1_4: ───────────────────■─────────┼──┤ U2(0,pi) ├──────┼───────────────────»\n",
      "«                                   │  └──────────┘      │                   »\n",
      "«q1_5: ─────────────────────────────■────────────────────■───────────────────»\n",
      "«                                                                            »\n",
      "«                                                     \n",
      "«q1_0: ───────────────────────────────────────────────\n",
      "«                                                     \n",
      "«q1_1: ───────────────────────────────────────────────\n",
      "«                                                     \n",
      "«q1_2: ───────────────────────────────────────────────\n",
      "«      ┌───┐┌──────────┐                              \n",
      "«q1_3: ┤ X ├┤ U1(pi/8) ├──────────────────────────────\n",
      "«      └─┬─┘└──┬───┬───┘┌───────────┐┌───┐┌──────────┐\n",
      "«q1_4: ──┼─────┤ X ├────┤ U1(-pi/4) ├┤ X ├┤ U1(pi/4) ├\n",
      "«        │     └─┬─┘    └───────────┘└─┬─┘├──────────┤\n",
      "«q1_5: ──■───────■─────────────────────■──┤ U2(0,pi) ├\n",
      "«                                         └──────────┘\n"
     ]
    }
   ],
   "source": [
    "pyzx_then_qiskit_qc = qiskit.transpile(new_qc, basis_gates=['u3', 'cx'], optimization_level=2)\n",
    "print(pyzx_then_qiskit_qc)"
   ]
  },
  {
   "cell_type": "code",
   "execution_count": 65,
   "metadata": {},
   "outputs": [
    {
     "name": "stdout",
     "output_type": "stream",
     "text": [
      "{'QC_Original': {'Depth': 11, 'Size': 21}, 'QC_pyZX': {'Depth': 11, 'Size': 21}, 'QC_QiskitTranspiler': {'Depth': 33, 'Size': 71}, 'QC_Both': {'Depth': 33, 'Size': 71}}\n"
     ]
    }
   ],
   "source": [
    "AllCircuits = {\"QC_Original\": qc, \"QC_pyZX\": new_qc, \"QC_QiskitTranspiler\": qiskit_transpiled_qc, \"QC_Both\": pyzx_then_qiskit_qc}\n",
    "OutputDict = {}\n",
    "\n",
    "if passedAll == False:\n",
    "    print(\"reject this sample\")\n",
    "else:\n",
    "    for key, value in AllCircuits.items():\n",
    "        OutputDict[key]= {\"Depth\":value.depth(), \"Size\":value.size()}\n",
    "    Metrics = [\"Depth\", \"Size\"]\n",
    "print(OutputDict)\n"
   ]
  },
  {
   "cell_type": "code",
   "execution_count": 66,
   "metadata": {},
   "outputs": [],
   "source": [
    "import numpy as np\n",
    "import matplotlib.pyplot as plt"
   ]
  },
  {
   "cell_type": "code",
   "execution_count": 67,
   "metadata": {},
   "outputs": [
    {
     "data": {
      "image/png": "[encoded data removed]",
      "text/plain": [
       "<Figure size 432x288 with 1 Axes>"
      ]
     },
     "metadata": {
      "needs_background": "light"
     },
     "output_type": "display_data"
    },
    {
     "data": {
      "image/png": "[encoded data removed]",
      "text/plain": [
       "<Figure size 432x288 with 1 Axes>"
      ]
     },
     "metadata": {
      "needs_background": "light"
     },
     "output_type": "display_data"
    }
   ],
   "source": [
    "for metric in Metrics:\n",
    "    plt.title(\"Random Circuit \" + metric)\n",
    "    plt.bar(range(len(AllCircuits)), [OutputDict[circ][metric] for circ in AllCircuits] , \n",
    "            align='center', color = [\"xkcd:neon blue\", \"xkcd:cerise\", \"xkcd:tangerine\", \"xkcd:heliotrope\"])\n",
    "    plt.xticks(range(len(AllCircuits)), list(AllCircuits.keys()))\n",
    "    plt.xlabel(\"Circuit Optimization Type\")\n",
    "    plt.ylabel(metric)\n",
    "    plt.show()"
   ]
  },
  {
   "cell_type": "code",
   "execution_count": null,
   "metadata": {},
   "outputs": [],
   "source": []
  }
 ],
 "metadata": {
  "kernelspec": {
   "display_name": "Python 3",
   "language": "python",
   "name": "python3"
  },
  "language_info": {
   "codemirror_mode": {
    "name": "ipython",
    "version": 3
   },
   "file_extension": ".py",
   "mimetype": "text/x-python",
   "name": "python",
   "nbconvert_exporter": "python",
   "pygments_lexer": "ipython3",
   "version": "3.7.3"
  }
 },
 "nbformat": 4,
 "nbformat_minor": 2
}
